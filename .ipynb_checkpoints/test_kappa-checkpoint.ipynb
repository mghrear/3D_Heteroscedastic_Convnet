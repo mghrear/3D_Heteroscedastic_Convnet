{
 "cells": [
  {
   "cell_type": "code",
   "execution_count": 1,
   "id": "caefcc0e",
   "metadata": {
    "tags": []
   },
   "outputs": [],
   "source": [
    "import numpy as np\n",
    "import pandas as pd\n",
    "import torch\n",
    "from torch.utils.data import DataLoader\n",
    "import matplotlib.pyplot as plt\n",
    "import mytools\n",
    "import mymodels\n",
    "from matplotlib import colors\n",
    "import scipy as sp\n",
    "from scipy.special import iv\n",
    "from scipy.optimize import curve_fit\n",
    "\n"
   ]
  },
  {
   "cell_type": "code",
   "execution_count": 2,
   "id": "7c0732ce-7523-4ea2-8d0c-fa3e9e1690ae",
   "metadata": {
    "tags": []
   },
   "outputs": [
    {
     "name": "stdout",
     "output_type": "stream",
     "text": [
      "Using cuda device\n"
     ]
    }
   ],
   "source": [
    "# Get cpu or gpu device for training.\n",
    "device = \"cuda\" if torch.cuda.is_available() else \"mps\" if torch.backends.mps.is_available() else \"cpu\"\n",
    "print(f\"Using {device} device\")\n",
    "\n",
    "# Load Heteroscedastic model\n",
    "model_HSCDC = torch.load('../3D_Heteroscedastic_Convnet_models/3D_HSCDC.pt').to(device)\n"
   ]
  },
  {
   "cell_type": "code",
   "execution_count": 3,
   "id": "1194c206-fea8-410c-a662-315e3b9fee72",
   "metadata": {
    "tags": []
   },
   "outputs": [],
   "source": [
    "# Function to get prediction for a given test case\n",
    "def get_pred(Energy=50,Diff='H'):\n",
    "    \n",
    "    # Read pandas dataframe with all information about sparse testing tensors\n",
    "    st_info = pd.read_pickle('/home/majd/sparse_testing_tensors_'+str(Energy)+'keV_'+Diff+'diff/sparse_tensor_info.pk')\n",
    "\n",
    "    # Make custom dataset\n",
    "    MyDataset = mytools.CustomDataset(dir_loc='/home/majd/sparse_testing_tensors_'+str(Energy)+'keV_'+Diff+'diff/', st_info=st_info)\n",
    "\n",
    "    # Create DataLoader\n",
    "    batch_size = 64\n",
    "    test_dataloader = DataLoader(MyDataset, batch_size=batch_size, shuffle=True)\n",
    "\n",
    "    # Print tensor shapes\n",
    "    for X_plot, y_plot, offset_plot in test_dataloader:\n",
    "        print(f\"Shape of X [N, C, H, W, D]: {X_plot.shape}\")\n",
    "        print(f\"Shape of y: {y_plot.shape} {y_plot.dtype}\")\n",
    "        print(\"Offsets: \", offset_plot.shape)\n",
    "        break\n",
    "\n",
    "    #Record shape of voxel grid\n",
    "    grid_shape = X_plot.shape[1:4]\n",
    "    print(\"Voxel grid shape: \" , grid_shape)\n",
    "    \n",
    "    # Obtain predictions and Labels\n",
    "    v_pred_HSCDC, K_pred_HSCDC, v_true_HSCDC, off_true_HSCDC = mytools.test_HSCDC(test_dataloader,model_HSCDC,device)\n",
    "    \n",
    "    return  v_pred_HSCDC, K_pred_HSCDC, v_true_HSCDC, off_true_HSCDC\n",
    "    "
   ]
  },
  {
   "cell_type": "code",
   "execution_count": null,
   "id": "1ef54abd-a531-4406-bd83-bcbb438b8991",
   "metadata": {
    "tags": []
   },
   "outputs": [
    {
     "name": "stdout",
     "output_type": "stream",
     "text": [
      "Shape of X [N, C, H, W, D]: torch.Size([64, 120, 120, 120, 1])\n",
      "Shape of y: torch.Size([64, 3]) torch.float32\n",
      "Offsets:  torch.Size([64, 3])\n",
      "Voxel grid shape:  torch.Size([120, 120, 120])\n",
      "Shape of X [N, C, H, W, D]: torch.Size([64, 120, 120, 120, 1])\n",
      "Shape of y: torch.Size([64, 3]) torch.float32\n",
      "Offsets:  torch.Size([64, 3])\n",
      "Voxel grid shape:  torch.Size([120, 120, 120])\n"
     ]
    }
   ],
   "source": [
    "# Get predictions for different test cases\n",
    "v_pred_HSCDC_50keV_H, K_pred_HSCDC_50keV_H, v_true_HSCDC_50keV_H, off_true_HSCDC_50keV_H = get_pred(Energy=50,Diff='H')\n",
    "v_pred_HSCDC_50keV_L, K_pred_HSCDC_50keV_L, v_true_HSCDC_50keV_L, off_true_HSCDC_50keV_L = get_pred(Energy=50,Diff='L')\n",
    "v_pred_HSCDC_40keV_H, K_pred_HSCDC_40keV_H, v_true_HSCDC_40keV_H, off_true_HSCDC_40keV_H = get_pred(Energy=40,Diff='H')\n",
    "v_pred_HSCDC_40keV_L, K_pred_HSCDC_40keV_L, v_true_HSCDC_40keV_L, off_true_HSCDC_40keV_L = get_pred(Energy=40,Diff='L')\n"
   ]
  },
  {
   "cell_type": "markdown",
   "id": "6b748fa9-b054-40fd-a20f-46fa666762eb",
   "metadata": {},
   "source": [
    "# Test Kappa for a all test cases"
   ]
  },
  {
   "cell_type": "code",
   "execution_count": null,
   "id": "a5b30424-f611-499b-8f5f-98d3faae28dd",
   "metadata": {
    "tags": []
   },
   "outputs": [],
   "source": [
    "x_50H = K_pred_HSCDC_50keV_H.flatten().numpy()\n",
    "y_50H = torch.arccos(mytools.CS(v_pred_HSCDC_50keV_H,v_true_HSCDC_50keV_H)).numpy()\n",
    "\n",
    "x_50L = K_pred_HSCDC_50keV_L.flatten().numpy()\n",
    "y_50L = torch.arccos(mytools.CS(v_pred_HSCDC_50keV_L,v_true_HSCDC_50keV_L)).numpy()\n",
    "\n",
    "x_40H = K_pred_HSCDC_40keV_H.flatten().numpy()\n",
    "y_40H = torch.arccos(mytools.CS(v_pred_HSCDC_40keV_H,v_true_HSCDC_40keV_H)).numpy()\n",
    "\n",
    "x_40L = K_pred_HSCDC_40keV_L.flatten().numpy()\n",
    "y_40L = torch.arccos(mytools.CS(v_pred_HSCDC_40keV_L,v_true_HSCDC_40keV_L)).numpy()\n",
    "\n",
    "xs = np.concatenate((x_50H,x_50L,x_40H,x_40L))\n",
    "ys = np.concatenate((y_50H,y_50L,y_40H,y_40L))"
   ]
  },
  {
   "cell_type": "code",
   "execution_count": null,
   "id": "078729ad-9bec-4369-9747-6152e7894f8a",
   "metadata": {
    "tags": []
   },
   "outputs": [],
   "source": [
    "h, x_edges, y_edges, image = plt.hist2d(xs, ys, bins=(50, 50), norm = colors.LogNorm())\n",
    "\n",
    "y_centers = (y_edges[:-1]+y_edges[1:])/2.0\n",
    "x_centers = (x_edges[:-1]+x_edges[1:])/2.0\n",
    "\n",
    "mean_vals = []\n",
    "mean_centers = []\n",
    "for i,center in enumerate(x_centers):\n",
    "    if np.sum(h[i,:]) > 10:\n",
    "        mean_vals += [np.dot(h[i,:],y_centers)/np.sum(h[i,:])]\n",
    "        mean_centers += [center]\n",
    "    \n",
    "Kappas = np.array(mean_centers)\n",
    "exp_mean = (iv(0,Kappas)-np.exp(-Kappas))*np.pi/(2*np.sinh(Kappas))\n",
    "\n",
    "plt.plot(Kappas,mean_vals,color='r',label=r\"Mean $\\theta$\")\n",
    "plt.plot(Kappas,exp_mean ,color='k',ls='--',label=r\"Expected Mean $\\theta$\")\n",
    "plt.legend( fontsize=12)\n",
    "plt.xlabel(r\"$\\kappa$\", fontsize=18)\n",
    "plt.ylabel(r\"$\\theta$ [Rad]\", fontsize=18)\n",
    "plt.colorbar()\n",
    "plt.savefig(\"kappa1.pdf\")\n",
    "\n",
    "# Print correleation coefficient matrix\n",
    "np.corrcoef(np.asarray([xs,ys]))\n"
   ]
  },
  {
   "cell_type": "code",
   "execution_count": null,
   "id": "979c991b-5e71-40df-a28e-f09e00a4f84a",
   "metadata": {},
   "outputs": [],
   "source": [
    "# Prob density fit Function :\n",
    "def prob_den(x,kappa):\n",
    "    return ( kappa / ( 2 * np.sinh(kappa) ) ) * np.exp( kappa * x )\n"
   ]
  },
  {
   "cell_type": "code",
   "execution_count": null,
   "id": "496304e9-1358-4b36-a36d-7f47ba42181e",
   "metadata": {},
   "outputs": [],
   "source": [
    "i = 20\n",
    "\n",
    "# Specify the edges of the kappa bin that we are isolating\n",
    "L_edge = x_edges[i]\n",
    "R_edge = x_edges[i+1]\n",
    "# Get the Angle values for events contained in the specified bin\n",
    "ys_cut = ys[(xs>L_edge)&(xs<R_edge)]\n",
    "# Convert angles to cos(angles)\n",
    "cos_thetas = np.cos(ys_cut)\n",
    "\n",
    "# Bin the cos(angles)\n",
    "bins= np.arange(-1,1.1,0.1)\n",
    "centers = (bins[:-1]+bins[1:])/2.0\n",
    "diff = (max(bins)-min(bins))/len(centers)\n",
    "\n",
    "hist, bin_edges, patches = plt.hist(cos_thetas, bins=bins, histtype='step',density=True)\n",
    "\n",
    "# hist = hist[:-1]\n",
    "# centers = centers[:-1]\n",
    "\n",
    "\n",
    "# Find Non-zero bins in Histogram\n",
    "nz = hist>0\n",
    "# compute count instead of prob. density\n",
    "counts = hist[nz]*diff*len(ys_cut)\n",
    "# Use count to get fractional uncertainty\n",
    "frac_err = (np.sqrt(counts)/counts)\n",
    "# Use fractional uncertainty to get uncertainty \n",
    "n_err = hist[nz]*frac_err\n",
    "\n",
    "\n",
    "# Plot the probability distribution using the bin center value of kappa \n",
    "plt.plot(centers,prob_den(centers,x_centers[i]),label=\"bin center kappa\")\n",
    "\n",
    "# Use Scipy to fit the probability density to the histogram\n",
    "coeff, covar = curve_fit(prob_den, centers[nz], hist[nz], sigma=n_err, absolute_sigma=True,p0=(x_centers[i]))\n",
    "\n",
    "# Plot the fit probability density\n",
    "plt.plot(centers, prob_den(centers,*coeff), 'r--', linewidth=2, label='curve_fit')\n",
    "\n",
    "\n",
    "# Print scipy fit parameters:\n",
    "perr = np.sqrt(np.diag(covar))\n",
    "print(\"kappa fit: \", coeff[0], \"+/-\", perr[0] )\n",
    "print(\"center value: \", x_centers[i], \"+/-\", (R_edge-L_edge)/2 )\n",
    "\n",
    "\n",
    "plt.legend()\n"
   ]
  },
  {
   "cell_type": "code",
   "execution_count": null,
   "id": "93acef16-0397-44cf-9bac-6a6e47f8922b",
   "metadata": {},
   "outputs": [],
   "source": [
    "k_fits = []\n",
    "k_fits_errs = []\n",
    "k_centers = []\n",
    "k_centers_errs = [] \n",
    "\n",
    "for i,center in enumerate(x_centers):\n",
    "\n",
    "    # Specify the edges of the kappa bin that we are isolating\n",
    "    L_edge = x_edges[i]\n",
    "    R_edge = x_edges[i+1]\n",
    "    # Get the Angle values for events contained in the specified bin\n",
    "    ys_cut = ys[(xs>L_edge)&(xs<R_edge)]\n",
    "    \n",
    "    if len(ys_cut) > 10:\n",
    "    \n",
    "        # Convert angles to cos(angles)\n",
    "        cos_thetas = np.cos(ys_cut)\n",
    "\n",
    "        # Bin the cos(angles)\n",
    "        bins= np.arange(-1,1.1,0.1)\n",
    "        centers = (bins[:-1]+bins[1:])/2.0\n",
    "        diff = (max(bins)-min(bins))/len(centers)\n",
    "\n",
    "        hist, bin_edges = np.histogram(cos_thetas, bins=bins, density=True)\n",
    "\n",
    "        # Find Non-zero bins in Histogram\n",
    "        nz = hist>0\n",
    "        # compute count instead of prob. density\n",
    "        counts = hist[nz]*diff*len(ys_cut)\n",
    "        # Use count to get fractional uncertainty\n",
    "        frac_err = (np.sqrt(counts)/counts)\n",
    "        # Use fractional uncertainty to get uncertainty \n",
    "        n_err = hist[nz]*frac_err\n",
    "\n",
    "        # Use Scipy to fit the probability density to the histogram\n",
    "        coeff, covar = curve_fit(prob_den, centers[nz], hist[nz], sigma=n_err, absolute_sigma=True,p0=(center))\n",
    "\n",
    "        # Print scipy fit parameters:\n",
    "        perr = np.sqrt(np.diag(covar))\n",
    "        print(i)\n",
    "        print(\"kappa fit: \", coeff[0], \"+/-\", perr[0] )\n",
    "        print(\"center value: \", center, \"+/-\", (R_edge-L_edge)/2 )\n",
    "        print(\"-----------------------------------------------\")\n",
    "\n",
    "        k_fits += [coeff[0]]\n",
    "        k_fits_errs += [ perr[0]]\n",
    "        k_centers += [center]\n",
    "        k_centers_errs += [(R_edge-L_edge)/2 ] \n",
    "\n"
   ]
  },
  {
   "cell_type": "code",
   "execution_count": null,
   "id": "465ba79b-cc6e-41bb-8195-f9b1200ece9f",
   "metadata": {},
   "outputs": [],
   "source": [
    "k_fits = np.array(k_fits)\n",
    "k_fits_errs = np.array(k_fits_errs)\n",
    "k_centers = np.array(k_centers)\n",
    "k_centers_errs = np.array(k_centers_errs)\n",
    "\n",
    "plt.errorbar(k_centers[0:60], k_fits[0:60], yerr = k_fits_errs[0:60], xerr = None, ls='none',color='k',fmt='.',capsize=5,label=\"Fit Kappa\") \n",
    "plt.plot(k_centers,k_centers,color ='orange',label=\"Perfect agreement\")\n",
    "plt.plot(k_centers,k_centers+k_centers_errs, ls = '--',color ='orange', label=\"Kappa bin width\")\n",
    "plt.plot(k_centers,k_centers-k_centers_errs,ls = '--',color ='orange')\n",
    "plt.xlabel(r\"$\\kappa$\", fontsize=18)\n",
    "plt.ylabel(r\"$\\kappa_{\\rm{fit}}$\", fontsize=18)\n",
    "plt.legend( fontsize=12)\n",
    "plt.savefig(\"kappa2.pdf\")\n"
   ]
  },
  {
   "cell_type": "code",
   "execution_count": null,
   "id": "07d7783d-edc9-4702-bb66-e665fe8889e5",
   "metadata": {},
   "outputs": [],
   "source": []
  }
 ],
 "metadata": {
  "kernelspec": {
   "display_name": "mypt",
   "language": "python",
   "name": "mypt"
  },
  "language_info": {
   "codemirror_mode": {
    "name": "ipython",
    "version": 3
   },
   "file_extension": ".py",
   "mimetype": "text/x-python",
   "name": "python",
   "nbconvert_exporter": "python",
   "pygments_lexer": "ipython3",
   "version": "3.10.11"
  },
  "vscode": {
   "interpreter": {
    "hash": "e137a2665c242313c11d472736bb1efbdaf7608c607fce3fc4f47a32817024ba"
   }
  }
 },
 "nbformat": 4,
 "nbformat_minor": 5
}
