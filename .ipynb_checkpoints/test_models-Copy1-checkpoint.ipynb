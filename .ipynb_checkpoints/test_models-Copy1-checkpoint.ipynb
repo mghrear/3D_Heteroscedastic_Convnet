{
 "cells": [
  {
   "cell_type": "code",
   "execution_count": 5,
   "id": "caefcc0e",
   "metadata": {},
   "outputs": [],
   "source": [
    "import numpy as np\n",
    "import pandas as pd\n",
    "import torch\n",
    "from torch import nn\n",
    "import torch.nn.functional as F\n",
    "from torch.utils.data import DataLoader\n",
    "import torchvision\n",
    "from torchvision import datasets\n",
    "import spconv.pytorch as spconv\n",
    "import matplotlib.pyplot as plt\n",
    "import mytools\n",
    "import mymodels\n"
   ]
  },
  {
   "cell_type": "markdown",
   "id": "adc5887d",
   "metadata": {},
   "source": [
    "# Select and load testing data"
   ]
  },
  {
   "cell_type": "code",
   "execution_count": 6,
   "id": "7c0732ce-7523-4ea2-8d0c-fa3e9e1690ae",
   "metadata": {},
   "outputs": [
    {
     "name": "stdout",
     "output_type": "stream",
     "text": [
      "Using cuda device\n"
     ]
    }
   ],
   "source": [
    "# Get cpu or gpu device for training.\n",
    "device = \"cuda\" if torch.cuda.is_available() else \"mps\" if torch.backends.mps.is_available() else \"cpu\"\n",
    "print(f\"Using {device} device\")"
   ]
  },
  {
   "cell_type": "code",
   "execution_count": 7,
   "id": "58a54a5a-2fbc-4b21-b72f-99db81a56732",
   "metadata": {},
   "outputs": [],
   "source": [
    "########################################\n",
    "########################################\n",
    "# Select Energy (40 or 50 keV)\n",
    "Energy = 50\n",
    "# Select diff amount (H or L)\n",
    "Diff = 'H'\n",
    "########################################\n",
    "########################################\n"
   ]
  },
  {
   "cell_type": "code",
   "execution_count": 8,
   "id": "d08e7a35-8a29-484b-b436-b42ee724bf4a",
   "metadata": {},
   "outputs": [
    {
     "data": {
      "text/html": [
       "<div>\n",
       "<style scoped>\n",
       "    .dataframe tbody tr th:only-of-type {\n",
       "        vertical-align: middle;\n",
       "    }\n",
       "\n",
       "    .dataframe tbody tr th {\n",
       "        vertical-align: top;\n",
       "    }\n",
       "\n",
       "    .dataframe thead th {\n",
       "        text-align: right;\n",
       "    }\n",
       "</style>\n",
       "<table border=\"1\" class=\"dataframe\">\n",
       "  <thead>\n",
       "    <tr style=\"text-align: right;\">\n",
       "      <th></th>\n",
       "      <th>dir</th>\n",
       "      <th>offset</th>\n",
       "      <th>diff</th>\n",
       "      <th>energy</th>\n",
       "    </tr>\n",
       "  </thead>\n",
       "  <tbody>\n",
       "    <tr>\n",
       "      <th>0</th>\n",
       "      <td>[0.2024386198326871, 0.6729458302064713, 0.711...</td>\n",
       "      <td>[1.2269315413035626, -1.0297878003798282, -2.8...</td>\n",
       "      <td>0.0443</td>\n",
       "      <td>50</td>\n",
       "    </tr>\n",
       "    <tr>\n",
       "      <th>1</th>\n",
       "      <td>[-0.11155777926156288, -0.6793289977470063, 0....</td>\n",
       "      <td>[2.2556262183844775, 1.8096210666976695, -0.76...</td>\n",
       "      <td>0.0443</td>\n",
       "      <td>50</td>\n",
       "    </tr>\n",
       "    <tr>\n",
       "      <th>2</th>\n",
       "      <td>[-0.7813580837241936, -0.32087909183386143, 0....</td>\n",
       "      <td>[2.654029153218907, -0.7652375830249626, 0.259...</td>\n",
       "      <td>0.0443</td>\n",
       "      <td>50</td>\n",
       "    </tr>\n",
       "    <tr>\n",
       "      <th>3</th>\n",
       "      <td>[0.8184578479379332, -0.01632955583650895, 0.5...</td>\n",
       "      <td>[-0.7794793420481543, -0.43791373544496887, -1...</td>\n",
       "      <td>0.0443</td>\n",
       "      <td>50</td>\n",
       "    </tr>\n",
       "    <tr>\n",
       "      <th>4</th>\n",
       "      <td>[-0.6592374434861854, 0.2951645489992342, -0.6...</td>\n",
       "      <td>[-0.7052277672713678, -1.2819584548816922, -0....</td>\n",
       "      <td>0.0443</td>\n",
       "      <td>50</td>\n",
       "    </tr>\n",
       "  </tbody>\n",
       "</table>\n",
       "</div>"
      ],
      "text/plain": [
       "                                                 dir  \\\n",
       "0  [0.2024386198326871, 0.6729458302064713, 0.711...   \n",
       "1  [-0.11155777926156288, -0.6793289977470063, 0....   \n",
       "2  [-0.7813580837241936, -0.32087909183386143, 0....   \n",
       "3  [0.8184578479379332, -0.01632955583650895, 0.5...   \n",
       "4  [-0.6592374434861854, 0.2951645489992342, -0.6...   \n",
       "\n",
       "                                              offset    diff energy  \n",
       "0  [1.2269315413035626, -1.0297878003798282, -2.8...  0.0443     50  \n",
       "1  [2.2556262183844775, 1.8096210666976695, -0.76...  0.0443     50  \n",
       "2  [2.654029153218907, -0.7652375830249626, 0.259...  0.0443     50  \n",
       "3  [-0.7794793420481543, -0.43791373544496887, -1...  0.0443     50  \n",
       "4  [-0.7052277672713678, -1.2819584548816922, -0....  0.0443     50  "
      ]
     },
     "execution_count": 8,
     "metadata": {},
     "output_type": "execute_result"
    }
   ],
   "source": [
    "# Read pandas dataframe with all information about sparse testing tensors\n",
    "st_info = pd.read_pickle('/home/majd/sparse_testing_tensors_'+str(Energy)+'keV_'+Diff+'diff/sparse_tensor_info.pk')\n",
    "st_info.head()"
   ]
  },
  {
   "cell_type": "code",
   "execution_count": 9,
   "id": "94fab85b-04f5-40fd-83e5-8d5a1e287953",
   "metadata": {},
   "outputs": [
    {
     "name": "stdout",
     "output_type": "stream",
     "text": [
      "Shape of X [N, C, H, W, D]: torch.Size([64, 120, 120, 120, 1])\n",
      "Shape of y: torch.Size([64, 3]) torch.float32\n",
      "Offsets:  torch.Size([64, 3])\n",
      "Voxel grid shape:  torch.Size([120, 120, 120])\n"
     ]
    }
   ],
   "source": [
    "# Make custom dataset\n",
    "MyDataset = mytools.CustomDataset(dir_loc='/home/majd/sparse_testing_tensors_'+str(Energy)+'keV_'+Diff+'diff/', st_info=st_info)\n",
    "\n",
    "# Create DataLoader\n",
    "batch_size = 64\n",
    "test_dataloader = DataLoader(MyDataset, batch_size=batch_size, shuffle=True)\n",
    "\n",
    "# Print tensor shapes\n",
    "for X_plot, y_plot, offset_plot in test_dataloader:\n",
    "    print(f\"Shape of X [N, C, H, W, D]: {X_plot.shape}\")\n",
    "    print(f\"Shape of y: {y_plot.shape} {y_plot.dtype}\")\n",
    "    print(\"Offsets: \", offset_plot.shape)\n",
    "    break\n",
    "    \n",
    "#Record shape of voxel grid\n",
    "grid_shape = X_plot.shape[1:4]\n",
    "print(\"Voxel grid shape: \" , grid_shape)\n"
   ]
  },
  {
   "cell_type": "code",
   "execution_count": 10,
   "id": "79aa4572-231e-458c-b709-484cffe55580",
   "metadata": {},
   "outputs": [],
   "source": [
    "Losses = []\n",
    "\n",
    "for alpha in [1,2,4,5]:\n",
    "    \n",
    "    model_CNN = torch.load('../3D_Heteroscedastic_Convnet_models/3D_CNN_alpha_'+str(alpha)+'.pt').to(device)\n",
    "    v_pred_CNN, v_true_CNN, off_true_CNN = mytools.test_CNN_alpha(test_dataloader,model_CNN,device)\n",
    "    \n",
    "    CNN_Loss = mytools.CSloss(v_pred_CNN, v_true_CNN).item()\n",
    "        \n",
    "    Losses += [CNN_Loss]\n",
    "    \n",
    "\n",
    "    "
   ]
  },
  {
   "cell_type": "code",
   "execution_count": 11,
   "id": "9cf78e11-bc66-4074-af63-c069328e4eeb",
   "metadata": {},
   "outputs": [],
   "source": [
    "# Load the regular CNN model\n",
    "model_CNN = torch.load('../3D_Heteroscedastic_Convnet_models/3D_CNN.pt').to(device)\n",
    "# Obtain predictions and labels\n",
    "v_pred_CNN, v_true_CNN, off_true_CNN = mytools.test_CNN(test_dataloader,model_CNN,device)\n",
    "# Compute the cosine similairity loss, we cannot make efficiency cuts here\n",
    "CNN_Loss = mytools.CSloss(v_pred_CNN, v_true_CNN).item()\n"
   ]
  },
  {
   "cell_type": "code",
   "execution_count": 12,
   "id": "f2f5fa5b-6f92-464f-8cce-152da2bbc463",
   "metadata": {},
   "outputs": [
    {
     "data": {
      "text/plain": [
       "Text(0, 0.5, 'Cosine distance loss')"
      ]
     },
     "execution_count": 12,
     "metadata": {},
     "output_type": "execute_result"
    },
    {
     "data": {
      "image/png": "[encoded data removed]",
      "text/plain": [
       "<Figure size 640x480 with 1 Axes>"
      ]
     },
     "metadata": {},
     "output_type": "display_data"
    }
   ],
   "source": [
    "plt.plot([-1,-2,-4,-5],Losses)\n",
    "plt.axhline(CNN_Loss,color = 'k', label=\"Loss without penalty\")\n",
    "plt.legend()\n",
    "plt.xlabel(\"alpha base 10 exponent\")\n",
    "plt.ylabel(\"Cosine distance loss\")"
   ]
  },
  {
   "cell_type": "markdown",
   "id": "793d2f84-6f65-46f7-9163-479ec4638431",
   "metadata": {},
   "source": [
    "# Repeat analysis for all test sets simultaneously"
   ]
  },
  {
   "cell_type": "code",
   "execution_count": null,
   "id": "eb430277-522f-43ee-9ccd-b09005a3fa57",
   "metadata": {},
   "outputs": [],
   "source": [
    "Energies = [40,40,50,50]\n",
    "Diffs = [\"H\",\"L\",\"H\",\"L\"]\n",
    "\n",
    "Losses = []\n",
    "\n",
    "    \n",
    "for alpha in [1,2,4,5]:\n",
    "    \n",
    "    \n",
    "    v_pred = torch.tensor([])\n",
    "    v_true =torch.tensor([])\n",
    "    \n",
    "\n",
    "    tot_samples = 0\n",
    "    Loss = 0\n",
    "\n",
    "    \n",
    "    for Energy, Diff in zip(Energies,Diffs):\n",
    "        \n",
    "        st_info = pd.read_pickle('/home/majd/sparse_testing_tensors_'+str(Energy)+'keV_'+Diff+'diff/sparse_tensor_info.pk')\n",
    "        \n",
    "        # Make custom dataset\n",
    "        MyDataset = mytools.CustomDataset(dir_loc='/home/majd/sparse_testing_tensors_'+str(Energy)+'keV_'+Diff+'diff/', st_info=st_info)\n",
    "\n",
    "        # Create DataLoader\n",
    "        batch_size = 64\n",
    "        test_dataloader = DataLoader(MyDataset, batch_size=batch_size, shuffle=True)\n",
    "        \n",
    "        \n",
    "        model_CNN = torch.load('../3D_Heteroscedastic_Convnet_models/3D_CNN_alpha_'+str(alpha)+'.pt').to(device)\n",
    "        v_pred_CNN, v_true_CNN, off_true_CNN = mytools.test_CNN_alpha(test_dataloader,model_CNN,device)\n",
    "\n",
    "        v_pred = torch.concat((v_pred,v_pred_CNN))\n",
    "        v_true = torch.concat((v_true,v_true_CNN))\n",
    "        \n",
    "    Losses += [mytools.CSloss(v_pred_CNN, v_true_CNN).item()]\n"
   ]
  },
  {
   "cell_type": "code",
   "execution_count": null,
   "id": "4d631a08-d8ea-4ffb-8ff5-4ec549020c1f",
   "metadata": {},
   "outputs": [],
   "source": [
    "\n",
    "\n",
    "\n",
    "# Load the regular CNN model\n",
    "model_CNN = torch.load('../3D_Heteroscedastic_Convnet_models/3D_CNN.pt').to(device)\n",
    "\n",
    "v_pred = torch.tensor([])\n",
    "v_true =torch.tensor([])\n",
    "\n",
    "    \n",
    "for Energy, Diff in zip(Energies,Diffs):\n",
    "        \n",
    "    st_info = pd.read_pickle('/home/majd/sparse_testing_tensors_'+str(Energy)+'keV_'+Diff+'diff/sparse_tensor_info.pk')\n",
    "        \n",
    "    # Make custom dataset\n",
    "    MyDataset = mytools.CustomDataset(dir_loc='/home/majd/sparse_testing_tensors_'+str(Energy)+'keV_'+Diff+'diff/', st_info=st_info)\n",
    "\n",
    "    # Create DataLoader\n",
    "    batch_size = 64\n",
    "    test_dataloader = DataLoader(MyDataset, batch_size=batch_size, shuffle=True)\n",
    "        \n",
    "        \n",
    "    # Obtain predictions and labels\n",
    "    v_pred_CNN, v_true_CNN, off_true_CNN = mytools.test_CNN(test_dataloader,model_CNN,device)\n",
    "    \n",
    "    v_pred = torch.concat((v_pred,v_pred_CNN))\n",
    "    v_true = torch.concat((v_true,v_true_CNN))\n",
    "\n",
    "Loss = mytools.CSloss(v_pred_CNN, v_true_CNN).item()\n",
    "\n"
   ]
  },
  {
   "cell_type": "code",
   "execution_count": null,
   "id": "e90848f8-a957-43b3-8ee4-db1745df5c06",
   "metadata": {},
   "outputs": [],
   "source": [
    "plt.plot([-1,-2,-4,-5],Losses)\n",
    "plt.axhline(Loss,color = 'k', label=\"Loss without penalty\")\n",
    "plt.legend()\n",
    "plt.xlabel(\"alpha base 10 exponent\")\n",
    "plt.ylabel(\"Cosine distance loss\")"
   ]
  },
  {
   "cell_type": "code",
   "execution_count": null,
   "id": "a6eed1aa-1c89-4eb7-abc0-1e2f1760101d",
   "metadata": {},
   "outputs": [],
   "source": []
  }
 ],
 "metadata": {
  "kernelspec": {
   "display_name": "mypt",
   "language": "python",
   "name": "mypt"
  },
  "language_info": {
   "codemirror_mode": {
    "name": "ipython",
    "version": 3
   },
   "file_extension": ".py",
   "mimetype": "text/x-python",
   "name": "python",
   "nbconvert_exporter": "python",
   "pygments_lexer": "ipython3",
   "version": "3.10.11"
  },
  "vscode": {
   "interpreter": {
    "hash": "e137a2665c242313c11d472736bb1efbdaf7608c607fce3fc4f47a32817024ba"
   }
  }
 },
 "nbformat": 4,
 "nbformat_minor": 5
}
