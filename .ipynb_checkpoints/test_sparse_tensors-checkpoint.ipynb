{
 "cells": [
  {
   "cell_type": "code",
   "execution_count": 23,
   "id": "fd2e6ffd-ee56-4f14-ba45-439e1e45857d",
   "metadata": {},
   "outputs": [],
   "source": [
    "import torch\n",
    "import copy\n",
    "from torch import nn\n",
    "import torch.nn.functional as F\n",
    "from torch.utils.data import DataLoader\n",
    "import torchvision\n",
    "from torchvision import datasets\n",
    "import torchvision.transforms as transforms\n",
    "from torchvision.transforms import ToTensor\n",
    "\n",
    "from torchsummary import summary\n",
    "\n",
    "import matplotlib.pyplot as plt\n",
    "import numpy as np\n",
    "import sklearn.metrics\n",
    "import os\n",
    "\n",
    "\n"
   ]
  },
  {
   "cell_type": "code",
   "execution_count": 57,
   "id": "433a0805-4d3a-421e-8cb2-2c135abcd06d",
   "metadata": {},
   "outputs": [],
   "source": [
    "class CustomDataset(torch.utils.data.Dataset):\n",
    "    \n",
    "    def __init__(self,dir_loc, N_sims):\n",
    "        self.dir_loc = dir_loc\n",
    "        self.N_sims = N_sims\n",
    "    \n",
    "    def __len__(self):\n",
    "        return self.N_sims\n",
    "    \n",
    "    def __getitem__(self,idx):\n",
    "        return ( torch.load(self.dir_loc + 'sparse_recoils_' + str(idx) + '.pt' ), torch.load(self.dir_loc + 'label_' + str(idx) + '.pt' ) ) \n",
    "        "
   ]
  },
  {
   "cell_type": "code",
   "execution_count": 52,
   "id": "a94f60fa-a4c6-407f-85a5-a8fc6f5f463a",
   "metadata": {},
   "outputs": [
    {
     "data": {
      "text/plain": [
       "801188"
      ]
     },
     "execution_count": 52,
     "metadata": {},
     "output_type": "execute_result"
    }
   ],
   "source": [
    "num_sims = int((len(os.listdir('/home/majd/sparse_tensors/'))-1)/3) # -1 because I noticed a .DS_store file was added, /3 \n",
    "num_sims"
   ]
  },
  {
   "cell_type": "code",
   "execution_count": 59,
   "id": "d999a2d7-cd3c-4453-bc2a-5342a6c02ac8",
   "metadata": {},
   "outputs": [],
   "source": [
    "MyDataset = CustomDataset2(dir_loc='/home/majd/sparse_tensors/', N_sims=num_sims)\n"
   ]
  },
  {
   "cell_type": "code",
   "execution_count": 60,
   "id": "89d732b6-dbce-478f-b2f4-2b044a0a5e90",
   "metadata": {},
   "outputs": [],
   "source": [
    "train_dataset, val_dataset, test_dataset = torch.utils.data.random_split(MyDataset,[0.6, 0.2, 0.2], generator=torch.Generator().manual_seed(42))\n"
   ]
  },
  {
   "cell_type": "code",
   "execution_count": 61,
   "id": "74aee997-8022-4d93-98fe-c37fc6269acd",
   "metadata": {},
   "outputs": [
    {
     "data": {
      "text/plain": [
       "480713"
      ]
     },
     "execution_count": 61,
     "metadata": {},
     "output_type": "execute_result"
    }
   ],
   "source": [
    "len(train_dataset)"
   ]
  },
  {
   "cell_type": "code",
   "execution_count": 62,
   "id": "c1fb80f6-0b58-42c5-aab5-20bae17fd59c",
   "metadata": {},
   "outputs": [
    {
     "name": "stdout",
     "output_type": "stream",
     "text": [
      "Shape of X [N, C, H, W]: torch.Size([128, 1, 120, 120, 120])\n",
      "Shape of y: torch.Size([128, 3]) torch.float32\n"
     ]
    }
   ],
   "source": [
    "batch_size = 128\n",
    "\n",
    "# Create data loaders\n",
    "train_dataloader = DataLoader(train_dataset, batch_size=batch_size, shuffle=True)\n",
    "val_dataloader = DataLoader(val_dataset, batch_size=batch_size, shuffle=True)\n",
    "test_dataloader = DataLoader(test_dataset, batch_size=batch_size, shuffle=True)\n",
    "\n",
    "for X_t, y_t in test_dataloader:\n",
    "    print(f\"Shape of X [N, C, H, W]: {X_t.shape}\")\n",
    "    print(f\"Shape of y: {y_t.shape} {y_t.dtype}\")\n",
    "    break"
   ]
  },
  {
   "cell_type": "code",
   "execution_count": 69,
   "id": "19eff76f-4f93-48f9-8380-f44d263de143",
   "metadata": {},
   "outputs": [
    {
     "name": "stdout",
     "output_type": "stream",
     "text": [
      "Shape of X [N, C, H, W]: torch.Size([128, 1, 120, 120, 120])\n",
      "Shape of y: torch.Size([128, 3]) torch.float32\n",
      "torch.Size([128, 1, 120, 120, 120])\n"
     ]
    }
   ],
   "source": [
    "for X_t, y_t in train_dataloader:\n",
    "    print(f\"Shape of X [N, C, H, W]: {X_t.shape}\")\n",
    "    print(f\"Shape of y: {y_t.shape} {y_t.dtype}\")\n",
    "    print(X_t.to_dense().shape)\n",
    "    #print(X_t.to_dense().numpy())\n",
    "    break"
   ]
  },
  {
   "cell_type": "code",
   "execution_count": 66,
   "id": "84407a5c-e55b-488d-a5e5-cc839cfd206b",
   "metadata": {},
   "outputs": [],
   "source": [
    "# WOW I can convert to densy by batch now!!\n",
    "# I can also convert to numpy easily, so I can plot the track and direction as a sanity check\n"
   ]
  },
  {
   "cell_type": "code",
   "execution_count": 1,
   "id": "7b539b3e-6cce-4f6c-b067-cbabd78071b4",
   "metadata": {},
   "outputs": [],
   "source": [
    "#testing git thing"
   ]
  },
  {
   "cell_type": "code",
   "execution_count": null,
   "id": "d2147553-4c07-4ad0-a132-9e5c53a43cb0",
   "metadata": {},
   "outputs": [],
   "source": []
  }
 ],
 "metadata": {
  "kernelspec": {
   "display_name": "pytorch_env",
   "language": "python",
   "name": "pytorch_env"
  },
  "language_info": {
   "codemirror_mode": {
    "name": "ipython",
    "version": 3
   },
   "file_extension": ".py",
   "mimetype": "text/x-python",
   "name": "python",
   "nbconvert_exporter": "python",
   "pygments_lexer": "ipython3",
   "version": "3.10.9"
  }
 },
 "nbformat": 4,
 "nbformat_minor": 5
}
