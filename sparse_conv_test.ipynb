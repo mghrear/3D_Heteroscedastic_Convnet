{
 "cells": [
  {
   "cell_type": "code",
   "execution_count": 1,
   "id": "fd2e6ffd-ee56-4f14-ba45-439e1e45857d",
   "metadata": {},
   "outputs": [],
   "source": [
    "import torch\n",
    "import copy\n",
    "from torch import nn\n",
    "import torch.nn.functional as F\n",
    "from torch.utils.data import DataLoader\n",
    "import torchvision\n",
    "from torchvision import datasets\n",
    "import torchvision.transforms as transforms\n",
    "from torchvision.transforms import ToTensor\n",
    "\n",
    "from torchsummary import summary\n",
    "\n",
    "import matplotlib.pyplot as plt\n",
    "import numpy as np\n",
    "import sklearn.metrics\n",
    "import os\n",
    "import mytools"
   ]
  },
  {
   "cell_type": "markdown",
   "id": "9ddb73c3-5eea-45bd-a497-c986db160cfa",
   "metadata": {},
   "source": [
    "# Data Handling"
   ]
  },
  {
   "cell_type": "code",
   "execution_count": 2,
   "id": "d10e975b-a5ce-47ca-8301-7184ade2540b",
   "metadata": {},
   "outputs": [
    {
     "name": "stdout",
     "output_type": "stream",
     "text": [
      "Training samples:  480713\n",
      "Validation samples:  160238\n",
      "Testing samples:  160237\n"
     ]
    }
   ],
   "source": [
    "# Make custom dataset\n",
    "#num_sims = int((len(os.listdir('/home/majd/sparse_tensors/'))-1)/3) # -1 because I noticed a .DS_store file was added, /3 \n",
    "num_sims = 801188\n",
    "MyDataset = mytools.CustomDataset(dir_loc='/home/majd/sparse_tensors/', N_sims=num_sims)\n",
    "\n",
    "# Split datat into training, validation, and testing sets\n",
    "train_dataset, val_dataset, test_dataset = torch.utils.data.random_split(MyDataset,[0.6, 0.2, 0.2], generator=torch.Generator().manual_seed(42))\n",
    "\n",
    "print(\"Training samples: \", len(train_dataset))\n",
    "print(\"Validation samples: \", len(val_dataset))\n",
    "print(\"Testing samples: \", len(test_dataset))\n",
    "\n",
    "# Create DataLoaders\n",
    "batch_size = 200\n",
    "train_dataloader = DataLoader(train_dataset, batch_size=batch_size, shuffle=True)\n",
    "val_dataloader = DataLoader(val_dataset, batch_size=batch_size, shuffle=True)\n",
    "test_dataloader = DataLoader(test_dataset, batch_size=batch_size, shuffle=True)"
   ]
  },
  {
   "cell_type": "code",
   "execution_count": 3,
   "id": "c1fb80f6-0b58-42c5-aab5-20bae17fd59c",
   "metadata": {},
   "outputs": [
    {
     "name": "stdout",
     "output_type": "stream",
     "text": [
      "Shape of X [N, C, H, W, D]: torch.Size([200, 1, 120, 120, 120])\n",
      "Shape of y: torch.Size([200, 3]) torch.float32\n",
      "indices:  torch.Size([200])\n"
     ]
    }
   ],
   "source": [
    "# Print tensor shapes\n",
    "for X_plot, y_plot, idx in train_dataloader:\n",
    "    print(f\"Shape of X [N, C, H, W, D]: {X_plot.shape}\")\n",
    "    print(f\"Shape of y: {y_plot.shape} {y_plot.dtype}\")\n",
    "    print(\"indices: \", idx.shape)\n",
    "    break\n"
   ]
  },
  {
   "cell_type": "code",
   "execution_count": 4,
   "id": "871e8301-25e0-4957-b7fe-5f45e3ed746c",
   "metadata": {},
   "outputs": [
    {
     "data": {
      "text/plain": [
       "tensor(indices=tensor([[  0,   0,   0,  ..., 199, 199, 199],\n",
       "                       [  0,   0,   0,  ...,   0,   0,   0],\n",
       "                       [ 25,  25,  25,  ...,  76,  76,  76],\n",
       "                       [ 64,  64,  65,  ...,  46,  47,  47],\n",
       "                       [ 49,  51,  48,  ...,  70,  70,  71]]),\n",
       "       values=tensor([2, 1, 1,  ..., 1, 1, 1]),\n",
       "       size=(200, 1, 120, 120, 120), nnz=168144, dtype=torch.uint8,\n",
       "       layout=torch.sparse_coo)"
      ]
     },
     "execution_count": 4,
     "metadata": {},
     "output_type": "execute_result"
    }
   ],
   "source": [
    "X_plot"
   ]
  },
  {
   "cell_type": "code",
   "execution_count": 5,
   "id": "fc135442-1196-494b-96f6-8df7f0569746",
   "metadata": {},
   "outputs": [
    {
     "data": {
      "text/plain": [
       "tensor(indices=tensor([[ 0,  0,  0,  ...,  0,  0,  0],\n",
       "                       [25, 25, 25,  ..., 81, 81, 82],\n",
       "                       [64, 64, 65,  ..., 67, 68, 69],\n",
       "                       [49, 51, 48,  ..., 92, 93, 94]]),\n",
       "       values=tensor([ 2,  1,  1,  1,  1,  1,  1,  1,  3,  1,  2,  1,  1,  1,\n",
       "                       1,  1,  1,  1,  1,  1,  1,  1,  1,  1,  1,  1,  2,  1,\n",
       "                       1,  1,  1,  1,  1,  1,  1,  1,  1,  2,  1,  2,  2,  1,\n",
       "                       1,  1,  1,  1,  1,  1,  2,  1,  2,  1,  1,  1,  1,  1,\n",
       "                       1,  1,  2,  1,  2,  1,  1,  1,  1,  1,  2,  2,  1,  2,\n",
       "                       1,  1,  1,  1,  3,  1,  1,  1,  1,  1,  1,  1,  1,  1,\n",
       "                       1,  1,  1,  1,  1,  1,  3,  1,  1,  1,  1,  1,  1,  1,\n",
       "                       1,  1,  2,  1,  1,  1,  1,  1,  1,  1,  2,  1,  1,  2,\n",
       "                       1,  1,  1,  1,  1,  1,  1,  1,  1,  1,  1,  1,  1,  2,\n",
       "                       1,  1,  1,  1,  1,  1,  1,  2,  1,  1,  1,  1,  1,  1,\n",
       "                       1,  1,  1,  2,  1,  1,  1,  1,  2,  2,  1,  2,  1,  1,\n",
       "                       1,  1,  1,  1,  1,  1,  2,  1,  1,  1,  2,  1,  3,  1,\n",
       "                       1,  1,  2,  2,  1,  1,  1,  1,  2,  1,  1,  1,  1,  1,\n",
       "                       1,  1,  1,  1,  1,  1,  1,  1,  2,  1,  1,  3,  1,  1,\n",
       "                       1,  1,  1,  1,  1,  1,  2,  1,  1,  1,  1,  1,  1,  2,\n",
       "                       1,  1,  2,  1,  1,  2,  1,  1,  1,  1,  1,  1,  2,  1,\n",
       "                       1,  1,  1,  1,  1,  1,  1,  1,  1,  1,  1,  1,  7,  1,\n",
       "                       1,  1,  1,  2,  1,  2,  1,  1,  1,  1,  1,  1,  1,  1,\n",
       "                       2,  1,  1,  1,  1,  1,  1,  1,  1,  1,  1,  1,  1,  1,\n",
       "                       1,  1,  1,  2,  1,  1,  1,  1,  1,  1,  2,  1,  1,  1,\n",
       "                       1,  2,  1,  3,  1,  1,  1,  2,  1,  1,  1,  3,  1,  1,\n",
       "                       2,  1,  1,  1,  2,  1,  1,  1,  3,  1,  1,  2,  1,  1,\n",
       "                       1,  1,  1,  1,  2,  1,  2,  1,  1,  1,  1,  1,  2,  1,\n",
       "                       2,  1,  1,  1,  2,  1,  1,  1,  1,  1,  1,  1,  1,  1,\n",
       "                       1,  3,  1,  1,  1,  3,  2,  1,  4,  2,  1,  2,  1,  2,\n",
       "                       1,  3,  1,  1,  1,  1,  2,  1,  1,  2,  1,  1,  1,  1,\n",
       "                       2,  1,  1,  1,  1,  1,  1,  3,  3,  1,  2,  2,  3,  1,\n",
       "                       1,  1,  1,  1,  1,  2,  1,  1,  1,  1,  1,  1,  1,  1,\n",
       "                       5,  2,  1,  2,  1,  1,  1,  1,  1,  1,  1,  1,  1,  3,\n",
       "                       2,  8,  3,  3,  3,  1,  1,  1,  1,  1,  1,  1,  1,  1,\n",
       "                       1,  1,  2,  3,  2,  2,  1,  2,  2,  1,  2,  1,  1,  1,\n",
       "                       1,  2,  1,  1,  1,  1,  1,  2,  3,  1,  1,  2,  2,  3,\n",
       "                       2,  1,  3,  2,  1,  1,  1,  2,  1,  2,  1,  1,  1,  4,\n",
       "                       1,  3,  1,  1,  1,  2,  1,  2,  2,  1,  1,  1,  1,  2,\n",
       "                       5,  2,  1,  1,  1,  1,  1,  1,  1,  1,  2,  2,  1,  2,\n",
       "                       4,  1,  2,  2,  2,  2,  2,  1,  1,  2,  2,  2,  3,  2,\n",
       "                       2,  1,  2,  1,  4,  3,  1,  1,  2,  1,  1,  1,  1,  2,\n",
       "                       1,  1,  1,  2,  1,  2,  1,  2,  7,  1,  1,  3,  4,  2,\n",
       "                       1,  1,  1,  1,  2,  1,  1,  1,  2,  2,  1,  1,  1,  1,\n",
       "                       1,  1,  1,  2,  1,  1,  1,  1,  1,  1,  1,  2,  1,  2,\n",
       "                       4,  1,  1,  1,  1,  1,  1,  1,  1,  1,  1,  5,  1,  1,\n",
       "                       1,  2,  3,  1,  1,  1,  4,  4,  1,  1,  1,  1,  1,  1,\n",
       "                       1,  1,  1,  5,  2,  4,  3,  3,  1,  1,  3,  3,  1,  1,\n",
       "                       1,  1,  2,  1,  1,  2,  1,  1,  4,  6,  2,  3,  8,  7,\n",
       "                       2,  2,  3,  2,  2,  1,  1,  1,  1,  1,  1,  1,  4,  1,\n",
       "                       5,  2,  1,  1,  4,  6,  7,  2,  1,  1,  2,  1,  9,  1,\n",
       "                       2,  2,  1,  2,  1,  1,  1,  1,  2,  1,  4,  1,  1,  7,\n",
       "                       5,  3,  3,  9,  1,  1,  1,  4,  2,  1,  2,  1,  3,  1,\n",
       "                       1,  1,  1,  2,  1,  2,  2,  2,  1,  3,  9,  6,  2,  1,\n",
       "                       3, 10,  6,  4,  1,  3,  4,  3,  1,  1,  3,  1,  1,  1,\n",
       "                       1,  1,  1,  2,  1,  2,  1,  1,  1,  2,  3,  1,  6,  8,\n",
       "                       2,  2,  1,  2,  6,  3,  2,  4,  2,  1,  4,  1,  1,  1,\n",
       "                       2,  1,  1,  1,  1,  1,  1,  1,  3,  1,  2,  4,  1,  1,\n",
       "                       1,  2,  1,  1,  1,  2,  1,  1,  1,  1,  1,  1,  1,  1,\n",
       "                       1,  1,  1,  1,  1,  1,  1,  1,  2,  1,  1,  1,  1,  2,\n",
       "                       2,  1,  2,  1,  2,  1,  1,  1,  2,  1,  1,  1,  1,  1,\n",
       "                       1,  1,  1,  2,  1,  2,  1,  1,  1,  1,  2,  3,  1,  1,\n",
       "                       1,  1,  1,  3,  2,  1,  1,  1,  2,  1,  1,  1,  1,  1,\n",
       "                       1,  1,  1,  1,  1,  1,  1,  1,  1,  2,  2,  1,  1,  3,\n",
       "                       1,  2,  1,  1,  1,  1,  1,  1,  1,  1,  1,  1,  1,  1,\n",
       "                       1,  1,  1,  2,  1,  1,  2,  1,  1,  1,  1,  2,  1,  1,\n",
       "                       1,  2,  1,  1,  1,  2,  1,  1,  1,  1,  1,  2,  2,  1,\n",
       "                       1,  1,  1,  1,  1,  2,  1,  1,  1,  2,  1,  2,  1,  1,\n",
       "                       1,  2,  1,  2,  1,  1,  1,  1,  1,  1,  1,  1,  1,  1,\n",
       "                       1,  1,  1,  1,  1,  1,  1,  2,  1,  1,  3,  1,  1,  2,\n",
       "                       1,  1,  1,  2,  2,  1,  1,  2,  1,  1,  1,  1,  1,  1,\n",
       "                       1,  1,  2,  2,  1]),\n",
       "       size=(1, 120, 120, 120), nnz=929, dtype=torch.uint8,\n",
       "       layout=torch.sparse_coo)"
      ]
     },
     "execution_count": 5,
     "metadata": {},
     "output_type": "execute_result"
    }
   ],
   "source": [
    "X =X_plot[0]\n",
    "X"
   ]
  },
  {
   "cell_type": "code",
   "execution_count": 10,
   "id": "633c5de0-1994-437f-bfd8-04d06f637664",
   "metadata": {},
   "outputs": [
    {
     "data": {
      "text/plain": [
       "tensor([[ 0,  0,  0,  ...,  0,  0,  0],\n",
       "        [44, 44, 44,  ..., 83, 83, 83],\n",
       "        [62, 62, 63,  ..., 12, 13, 14],\n",
       "        [44, 45, 43,  ..., 82, 83, 82]])"
      ]
     },
     "execution_count": 10,
     "metadata": {},
     "output_type": "execute_result"
    }
   ],
   "source": [
    "X.coalesce().indices()"
   ]
  },
  {
   "cell_type": "code",
   "execution_count": 6,
   "id": "7eb6aa95-797e-43e7-875c-e9f42b455054",
   "metadata": {},
   "outputs": [
    {
     "data": {
      "image/png": "[encoded data removed]",
      "text/plain": [
       "<Figure size 1000x1000 with 1 Axes>"
      ]
     },
     "metadata": {},
     "output_type": "display_data"
    }
   ],
   "source": [
    "# Plot an example as a sanity check\n",
    "\n",
    "# x/y/z length being kept in cm\n",
    "eff_l = 3.0\n",
    "# Voxel size in cm\n",
    "vox_l = 0.05\n",
    "\n",
    "index = 4\n",
    "off = torch.load('/home/majd/sparse_tensors/' + 'offset_' + str(idx[index].item()) + '.pt' )\n",
    "mytools.plot_tensor_dir(tensor = X_plot.to_dense().numpy()[index], start = off, direction = y_plot[index].numpy(), eff_l=eff_l, vox_l=vox_l)"
   ]
  },
  {
   "cell_type": "markdown",
   "id": "677b9c70-236b-4c3c-beda-66d1567cd2d6",
   "metadata": {},
   "source": [
    "# Define Custom Layer"
   ]
  },
  {
   "cell_type": "code",
   "execution_count": 6,
   "id": "4060edba-7fb4-4412-8023-cf7ab71773f0",
   "metadata": {},
   "outputs": [],
   "source": [
    "# so far it can only handle one channel\n",
    "# so far it does not include padding\n",
    "# tensor shape must be (batch,channel,B,W,H)\n",
    "\n",
    "class SparseConv3D(nn.Module):\n",
    "    \n",
    "    def __init__(self, in_channels = 1, out_channels = 1, kernel_size = (3,3,3), stride = (1,1,1), padding = (0,0,0), bias = True):\n",
    "        \n",
    "        super().__init__()\n",
    "        self.out_channels = out_channels\n",
    "        self.kernel_size = kernel_size\n",
    "        self.stride = stride\n",
    "        self.padding = padding\n",
    "        self.in_channels = in_channels\n",
    "        \n",
    "        # Initialize weights and biases\n",
    "        self.weights = nn.Parameter(torch.randn(kernel_size))\n",
    "        if bias == True:\n",
    "            self.bias = nn.Parameter(torch.randn(out_channels))\n",
    "        \n",
    "    def forward(self, x):\n",
    "        \n",
    "        # coalesce the sparse tensor to make sure data can be extraxted\n",
    "        x = x.coalesce()\n",
    "    \n",
    "        # Extract info from sparse tensor\n",
    "        indices = x.indices()\n",
    "        values = x.values()\n",
    "        shape = x.shape\n",
    "        \n",
    "        # The record channel for each entry\n",
    "        channel = indices[1]\n",
    "\n",
    "        # Create Features - a tensor of all channel values for a given batch / x / y / z position \n",
    "        Features = []\n",
    "        for ind in range(self.in_channels):\n",
    "            Features.append( values[channel == ind] )\n",
    "        Features = torch.stack(F)\n",
    "        \n",
    "        # Remove duplicate info due to multiple channels\n",
    "        batch = indices[0][channel == 0]\n",
    "        x = indices[2][channel == 0]\n",
    "        y = indices[3][channel == 0]\n",
    "        z = indices[4][channel == 0]\n",
    "        \n",
    "        # for x/y/z compute (index - all kernel indices along same dimension) / stride\n",
    "        a = ( x.repeat(self.kernel_size[0],1) -  torch.arange(self.kernel_size[0])[:, None] ) / self.stride[0]\n",
    "        b = ( y.repeat(self.kernel_size[1],1) -  torch.arange(self.kernel_size[1])[:, None] ) / self.stride[1]\n",
    "        c = ( z.repeat(self.kernel_size[2],1) -  torch.arange(self.kernel_size[2])[:, None] ) / self.stride[2]\n",
    "        \n",
    "        # Compute corresponding truth values (True if an element is an integer, false otherwise)\n",
    "        Ta = (-2.0*(torch.fmod(a,1)-0.5)).type(torch.BoolTensor)\n",
    "        Tb = (-2.0*(torch.fmod(b,1)-0.5)).type(torch.BoolTensor)\n",
    "        Tc = (-2.0*(torch.fmod(c,1)-0.5)).type(torch.BoolTensor)\n",
    "        \n",
    "        # For each element in the kernel we compute a sparse tensor\n",
    "        # For kernel element (0,0,0)\n",
    "        out_ind_0 = batch[Ta[0]*Tb[0]*Tc[0]]\n",
    "        #out_ind_1 = indices[1][Ta[0]*Tb[0]*Tc[0]]\n",
    "        out_ind_x = a[0][Ta[0]*Tb[0]*Tc[0]]\n",
    "        out_ind_y = b[0][Ta[0]*Tb[0]*Tc[0]]\n",
    "        out_ind_z = c[0][Ta[0]*Tb[0]*Tc[0]]\n",
    "        \n",
    "        #The values are the original values times the kernel element value, we must repeaat this for n_filters\n",
    "        out_values = #a product of the feature tensor, and weight tensor + bias  \n",
    "        \n",
    "        # For each element in the kernel we compute a sparse tensor\n",
    "        # For kernel element (0,1,2)\n",
    "        out_ind_0 = batch[Ta[0]*Tb[1]*Tc[2]]\n",
    "        #out_ind_1 = indices[1][Ta[0]*Tb[1]*Tc[2]] # I'll probably need to update this to be related to n_fliters somehow\n",
    "        out_ind_x = a[0][Ta[0]*Tb[1]*Tc[2]]\n",
    "        out_ind_y = b[1][Ta[0]*Tb[1]*Tc[2]]\n",
    "        out_ind_z = c[2][Ta[0]*Tb[1]*Tc[2]]\n",
    "        \n",
    "        #The values are the original values times the kernel element value, we must repeaat this for n_filters\n",
    "        out_values = self.weights[0][1][2]*(values[Ta[0]*Tb[1]*Tc[2]]) # also must add bias\n",
    "        \n",
    "        # If instead of values we can construct \"features\", then we can generalize to any number of input channels\n",
    "        \n",
    "        \n",
    "        return values[Ta[0]*Tb[1]*Tc[2]]"
   ]
  },
  {
   "cell_type": "code",
   "execution_count": 151,
   "id": "0b164501-4b75-4cc9-840c-bb7fa40af29f",
   "metadata": {},
   "outputs": [],
   "source": [
    "in_channels = 2\n",
    "X_test=torch.randn((4,in_channels,3,3,3))"
   ]
  },
  {
   "cell_type": "code",
   "execution_count": 152,
   "id": "898be596-9ecc-4fc3-a08c-b822dc2e61ba",
   "metadata": {},
   "outputs": [
    {
     "data": {
      "text/plain": [
       "tensor([[[[[ 0.0000e+00,  0.0000e+00,  0.0000e+00],\n",
       "           [ 0.0000e+00,  0.0000e+00,  0.0000e+00],\n",
       "           [ 0.0000e+00,  0.0000e+00,  0.0000e+00]],\n",
       "\n",
       "          [[ 0.0000e+00,  0.0000e+00,  0.0000e+00],\n",
       "           [ 0.0000e+00,  0.0000e+00,  0.0000e+00],\n",
       "           [ 0.0000e+00,  0.0000e+00,  0.0000e+00]],\n",
       "\n",
       "          [[ 0.0000e+00,  0.0000e+00,  0.0000e+00],\n",
       "           [ 0.0000e+00,  0.0000e+00,  0.0000e+00],\n",
       "           [ 0.0000e+00,  0.0000e+00,  0.0000e+00]]],\n",
       "\n",
       "\n",
       "         [[[ 0.0000e+00,  0.0000e+00,  0.0000e+00],\n",
       "           [ 0.0000e+00,  0.0000e+00,  0.0000e+00],\n",
       "           [ 0.0000e+00,  0.0000e+00,  0.0000e+00]],\n",
       "\n",
       "          [[ 0.0000e+00,  0.0000e+00,  0.0000e+00],\n",
       "           [ 0.0000e+00,  0.0000e+00,  0.0000e+00],\n",
       "           [ 0.0000e+00,  0.0000e+00,  0.0000e+00]],\n",
       "\n",
       "          [[ 0.0000e+00,  0.0000e+00,  0.0000e+00],\n",
       "           [ 0.0000e+00,  0.0000e+00,  0.0000e+00],\n",
       "           [ 0.0000e+00,  0.0000e+00,  0.0000e+00]]]],\n",
       "\n",
       "\n",
       "\n",
       "        [[[[ 0.0000e+00,  0.0000e+00,  0.0000e+00],\n",
       "           [ 0.0000e+00,  0.0000e+00,  0.0000e+00],\n",
       "           [ 0.0000e+00,  0.0000e+00,  0.0000e+00]],\n",
       "\n",
       "          [[ 0.0000e+00,  0.0000e+00,  0.0000e+00],\n",
       "           [ 0.0000e+00,  0.0000e+00,  0.0000e+00],\n",
       "           [ 0.0000e+00,  0.0000e+00,  0.0000e+00]],\n",
       "\n",
       "          [[ 0.0000e+00,  0.0000e+00,  0.0000e+00],\n",
       "           [ 0.0000e+00,  0.0000e+00,  0.0000e+00],\n",
       "           [ 0.0000e+00,  0.0000e+00,  0.0000e+00]]],\n",
       "\n",
       "\n",
       "         [[[ 0.0000e+00,  0.0000e+00,  0.0000e+00],\n",
       "           [ 0.0000e+00,  0.0000e+00,  0.0000e+00],\n",
       "           [ 0.0000e+00,  0.0000e+00,  0.0000e+00]],\n",
       "\n",
       "          [[ 0.0000e+00,  0.0000e+00,  0.0000e+00],\n",
       "           [ 0.0000e+00,  0.0000e+00,  0.0000e+00],\n",
       "           [ 0.0000e+00,  0.0000e+00,  0.0000e+00]],\n",
       "\n",
       "          [[ 0.0000e+00,  0.0000e+00,  0.0000e+00],\n",
       "           [ 0.0000e+00,  0.0000e+00,  0.0000e+00],\n",
       "           [ 0.0000e+00,  0.0000e+00,  0.0000e+00]]]],\n",
       "\n",
       "\n",
       "\n",
       "        [[[[ 4.9971e-01,  1.2328e+00,  2.0384e+00],\n",
       "           [-5.7511e-01,  1.7491e+00, -1.8697e-01],\n",
       "           [-1.0680e-01, -1.2366e+00,  5.2789e-01]],\n",
       "\n",
       "          [[-5.9246e-02,  2.8401e-01, -3.6561e-01],\n",
       "           [-3.3232e-01,  3.1339e-01, -1.8385e-01],\n",
       "           [-6.0661e-01,  1.9325e-02,  9.7819e-01]],\n",
       "\n",
       "          [[-7.6808e-01, -9.1338e-01, -1.1495e+00],\n",
       "           [ 8.1829e-01,  1.0682e-01, -2.2802e-01],\n",
       "           [-5.9252e-01, -1.2809e+00, -1.4645e+00]]],\n",
       "\n",
       "\n",
       "         [[[-1.7046e+00, -1.0042e+00,  2.8092e-01],\n",
       "           [-2.1467e-01, -9.6408e-01, -1.5369e-03],\n",
       "           [-8.8052e-01,  1.2631e-01, -1.5284e-01]],\n",
       "\n",
       "          [[-1.5630e+00,  5.4541e-01, -6.2236e-01],\n",
       "           [-4.0395e-01,  1.8593e-01, -1.0984e+00],\n",
       "           [ 2.0409e+00,  3.9594e-01,  6.0666e-01]],\n",
       "\n",
       "          [[ 1.7354e+00, -9.5321e-01, -1.0120e+00],\n",
       "           [-4.2169e-02, -1.0696e-01,  4.1109e-01],\n",
       "           [ 8.8747e-01, -1.5573e+00, -6.4195e-01]]]],\n",
       "\n",
       "\n",
       "\n",
       "        [[[[ 5.1893e-01,  1.8948e+00,  1.3639e+00],\n",
       "           [ 7.0048e-01,  1.0619e+00,  4.7001e-01],\n",
       "           [ 8.0599e-01, -1.7268e+00,  1.0370e+00]],\n",
       "\n",
       "          [[ 8.4622e-01, -1.4376e+00,  5.3716e-02],\n",
       "           [ 2.0785e-01, -7.0793e-01,  1.4923e+00],\n",
       "           [ 6.6330e-01,  5.5278e-01, -9.2275e-01]],\n",
       "\n",
       "          [[ 3.9079e-01, -6.9143e-01,  3.1872e-01],\n",
       "           [-1.2764e+00,  1.3960e+00,  1.3330e+00],\n",
       "           [-8.3634e-01,  4.1304e-01,  2.7874e-01]]],\n",
       "\n",
       "\n",
       "         [[[ 1.1590e+00, -4.9687e-01, -3.5471e-01],\n",
       "           [ 1.1866e+00, -9.7416e-02,  2.3435e-01],\n",
       "           [ 1.2514e+00,  1.1934e+00,  4.4358e-01]],\n",
       "\n",
       "          [[-2.3274e+00, -6.7204e-01,  1.4055e+00],\n",
       "           [ 9.5249e-01,  3.7331e-01, -3.9882e-01],\n",
       "           [-1.8759e+00, -4.8619e-01, -1.1015e+00]],\n",
       "\n",
       "          [[-2.8258e-01, -8.6935e-01,  1.2760e-01],\n",
       "           [-5.7703e-01,  4.3014e-01,  3.8021e-01],\n",
       "           [-8.0130e-01,  3.1322e-01,  1.8803e+00]]]]])"
      ]
     },
     "execution_count": 152,
     "metadata": {},
     "output_type": "execute_result"
    }
   ],
   "source": [
    "X_test[:][:][:][:][0]=0\n",
    "X_test[:][:][:][:][1]=0\n",
    "X_test[:][:][:][0][:]=0\n",
    "X_test"
   ]
  },
  {
   "cell_type": "code",
   "execution_count": 153,
   "id": "0382ff4a-7d1d-41ca-9707-047ecd85424f",
   "metadata": {},
   "outputs": [
    {
     "data": {
      "text/plain": [
       "tensor(indices=tensor([[2, 2, 2, 2, 2, 2, 2, 2, 2, 2, 2, 2, 2, 2, 2, 2, 2, 2, 2,\n",
       "                        2, 2, 2, 2, 2, 2, 2, 2, 2, 2, 2, 2, 2, 2, 2, 2, 2, 2, 2,\n",
       "                        2, 2, 2, 2, 2, 2, 2, 2, 2, 2, 2, 2, 2, 2, 2, 2, 3, 3, 3,\n",
       "                        3, 3, 3, 3, 3, 3, 3, 3, 3, 3, 3, 3, 3, 3, 3, 3, 3, 3, 3,\n",
       "                        3, 3, 3, 3, 3, 3, 3, 3, 3, 3, 3, 3, 3, 3, 3, 3, 3, 3, 3,\n",
       "                        3, 3, 3, 3, 3, 3, 3, 3, 3, 3, 3, 3, 3],\n",
       "                       [0, 0, 0, 0, 0, 0, 0, 0, 0, 0, 0, 0, 0, 0, 0, 0, 0, 0, 0,\n",
       "                        0, 0, 0, 0, 0, 0, 0, 0, 1, 1, 1, 1, 1, 1, 1, 1, 1, 1, 1,\n",
       "                        1, 1, 1, 1, 1, 1, 1, 1, 1, 1, 1, 1, 1, 1, 1, 1, 0, 0, 0,\n",
       "                        0, 0, 0, 0, 0, 0, 0, 0, 0, 0, 0, 0, 0, 0, 0, 0, 0, 0, 0,\n",
       "                        0, 0, 0, 0, 0, 1, 1, 1, 1, 1, 1, 1, 1, 1, 1, 1, 1, 1, 1,\n",
       "                        1, 1, 1, 1, 1, 1, 1, 1, 1, 1, 1, 1, 1],\n",
       "                       [0, 0, 0, 0, 0, 0, 0, 0, 0, 1, 1, 1, 1, 1, 1, 1, 1, 1, 2,\n",
       "                        2, 2, 2, 2, 2, 2, 2, 2, 0, 0, 0, 0, 0, 0, 0, 0, 0, 1, 1,\n",
       "                        1, 1, 1, 1, 1, 1, 1, 2, 2, 2, 2, 2, 2, 2, 2, 2, 0, 0, 0,\n",
       "                        0, 0, 0, 0, 0, 0, 1, 1, 1, 1, 1, 1, 1, 1, 1, 2, 2, 2, 2,\n",
       "                        2, 2, 2, 2, 2, 0, 0, 0, 0, 0, 0, 0, 0, 0, 1, 1, 1, 1, 1,\n",
       "                        1, 1, 1, 1, 2, 2, 2, 2, 2, 2, 2, 2, 2],\n",
       "                       [0, 0, 0, 1, 1, 1, 2, 2, 2, 0, 0, 0, 1, 1, 1, 2, 2, 2, 0,\n",
       "                        0, 0, 1, 1, 1, 2, 2, 2, 0, 0, 0, 1, 1, 1, 2, 2, 2, 0, 0,\n",
       "                        0, 1, 1, 1, 2, 2, 2, 0, 0, 0, 1, 1, 1, 2, 2, 2, 0, 0, 0,\n",
       "                        1, 1, 1, 2, 2, 2, 0, 0, 0, 1, 1, 1, 2, 2, 2, 0, 0, 0, 1,\n",
       "                        1, 1, 2, 2, 2, 0, 0, 0, 1, 1, 1, 2, 2, 2, 0, 0, 0, 1, 1,\n",
       "                        1, 2, 2, 2, 0, 0, 0, 1, 1, 1, 2, 2, 2],\n",
       "                       [0, 1, 2, 0, 1, 2, 0, 1, 2, 0, 1, 2, 0, 1, 2, 0, 1, 2, 0,\n",
       "                        1, 2, 0, 1, 2, 0, 1, 2, 0, 1, 2, 0, 1, 2, 0, 1, 2, 0, 1,\n",
       "                        2, 0, 1, 2, 0, 1, 2, 0, 1, 2, 0, 1, 2, 0, 1, 2, 0, 1, 2,\n",
       "                        0, 1, 2, 0, 1, 2, 0, 1, 2, 0, 1, 2, 0, 1, 2, 0, 1, 2, 0,\n",
       "                        1, 2, 0, 1, 2, 0, 1, 2, 0, 1, 2, 0, 1, 2, 0, 1, 2, 0, 1,\n",
       "                        2, 0, 1, 2, 0, 1, 2, 0, 1, 2, 0, 1, 2]]),\n",
       "       values=tensor([ 4.9971e-01,  1.2328e+00,  2.0384e+00, -5.7511e-01,\n",
       "                       1.7491e+00, -1.8697e-01, -1.0680e-01, -1.2366e+00,\n",
       "                       5.2789e-01, -5.9246e-02,  2.8401e-01, -3.6561e-01,\n",
       "                      -3.3232e-01,  3.1339e-01, -1.8385e-01, -6.0661e-01,\n",
       "                       1.9325e-02,  9.7819e-01, -7.6808e-01, -9.1338e-01,\n",
       "                      -1.1495e+00,  8.1829e-01,  1.0682e-01, -2.2802e-01,\n",
       "                      -5.9252e-01, -1.2809e+00, -1.4645e+00, -1.7046e+00,\n",
       "                      -1.0042e+00,  2.8092e-01, -2.1467e-01, -9.6408e-01,\n",
       "                      -1.5369e-03, -8.8052e-01,  1.2631e-01, -1.5284e-01,\n",
       "                      -1.5630e+00,  5.4541e-01, -6.2236e-01, -4.0395e-01,\n",
       "                       1.8593e-01, -1.0984e+00,  2.0409e+00,  3.9594e-01,\n",
       "                       6.0666e-01,  1.7354e+00, -9.5321e-01, -1.0120e+00,\n",
       "                      -4.2169e-02, -1.0696e-01,  4.1109e-01,  8.8747e-01,\n",
       "                      -1.5573e+00, -6.4195e-01,  5.1893e-01,  1.8948e+00,\n",
       "                       1.3639e+00,  7.0048e-01,  1.0619e+00,  4.7001e-01,\n",
       "                       8.0599e-01, -1.7268e+00,  1.0370e+00,  8.4622e-01,\n",
       "                      -1.4376e+00,  5.3716e-02,  2.0785e-01, -7.0793e-01,\n",
       "                       1.4923e+00,  6.6330e-01,  5.5278e-01, -9.2275e-01,\n",
       "                       3.9079e-01, -6.9143e-01,  3.1872e-01, -1.2764e+00,\n",
       "                       1.3960e+00,  1.3330e+00, -8.3634e-01,  4.1304e-01,\n",
       "                       2.7874e-01,  1.1590e+00, -4.9687e-01, -3.5471e-01,\n",
       "                       1.1866e+00, -9.7416e-02,  2.3435e-01,  1.2514e+00,\n",
       "                       1.1934e+00,  4.4358e-01, -2.3274e+00, -6.7204e-01,\n",
       "                       1.4055e+00,  9.5249e-01,  3.7331e-01, -3.9882e-01,\n",
       "                      -1.8759e+00, -4.8619e-01, -1.1015e+00, -2.8258e-01,\n",
       "                      -8.6935e-01,  1.2760e-01, -5.7703e-01,  4.3014e-01,\n",
       "                       3.8021e-01, -8.0130e-01,  3.1322e-01,  1.8803e+00]),\n",
       "       size=(4, 2, 3, 3, 3), nnz=108, layout=torch.sparse_coo)"
      ]
     },
     "execution_count": 153,
     "metadata": {},
     "output_type": "execute_result"
    }
   ],
   "source": [
    "X_test=X_test.to_sparse()\n",
    "X_test "
   ]
  },
  {
   "cell_type": "code",
   "execution_count": 154,
   "id": "febcc59c-ef7b-4dfa-af02-d1720cbe9713",
   "metadata": {},
   "outputs": [
    {
     "name": "stdout",
     "output_type": "stream",
     "text": [
      "tensor([2, 2, 2, 2, 2, 2, 2, 2, 2, 2, 2, 2, 2, 2, 2, 2, 2, 2, 2, 2, 2, 2, 2, 2,\n",
      "        2, 2, 2, 2, 2, 2, 2, 2, 2, 2, 2, 2, 2, 2, 2, 2, 2, 2, 2, 2, 2, 2, 2, 2,\n",
      "        2, 2, 2, 2, 2, 2, 3, 3, 3, 3, 3, 3, 3, 3, 3, 3, 3, 3, 3, 3, 3, 3, 3, 3,\n",
      "        3, 3, 3, 3, 3, 3, 3, 3, 3, 3, 3, 3, 3, 3, 3, 3, 3, 3, 3, 3, 3, 3, 3, 3,\n",
      "        3, 3, 3, 3, 3, 3, 3, 3, 3, 3, 3, 3])\n",
      "tensor([0, 0, 0, 0, 0, 0, 0, 0, 0, 0, 0, 0, 0, 0, 0, 0, 0, 0, 0, 0, 0, 0, 0, 0,\n",
      "        0, 0, 0, 1, 1, 1, 1, 1, 1, 1, 1, 1, 1, 1, 1, 1, 1, 1, 1, 1, 1, 1, 1, 1,\n",
      "        1, 1, 1, 1, 1, 1, 0, 0, 0, 0, 0, 0, 0, 0, 0, 0, 0, 0, 0, 0, 0, 0, 0, 0,\n",
      "        0, 0, 0, 0, 0, 0, 0, 0, 0, 1, 1, 1, 1, 1, 1, 1, 1, 1, 1, 1, 1, 1, 1, 1,\n",
      "        1, 1, 1, 1, 1, 1, 1, 1, 1, 1, 1, 1])\n",
      "tensor([0, 0, 0, 0, 0, 0, 0, 0, 0, 1, 1, 1, 1, 1, 1, 1, 1, 1, 2, 2, 2, 2, 2, 2,\n",
      "        2, 2, 2, 0, 0, 0, 0, 0, 0, 0, 0, 0, 1, 1, 1, 1, 1, 1, 1, 1, 1, 2, 2, 2,\n",
      "        2, 2, 2, 2, 2, 2, 0, 0, 0, 0, 0, 0, 0, 0, 0, 1, 1, 1, 1, 1, 1, 1, 1, 1,\n",
      "        2, 2, 2, 2, 2, 2, 2, 2, 2, 0, 0, 0, 0, 0, 0, 0, 0, 0, 1, 1, 1, 1, 1, 1,\n",
      "        1, 1, 1, 2, 2, 2, 2, 2, 2, 2, 2, 2])\n",
      "tensor([0, 0, 0, 1, 1, 1, 2, 2, 2, 0, 0, 0, 1, 1, 1, 2, 2, 2, 0, 0, 0, 1, 1, 1,\n",
      "        2, 2, 2, 0, 0, 0, 1, 1, 1, 2, 2, 2, 0, 0, 0, 1, 1, 1, 2, 2, 2, 0, 0, 0,\n",
      "        1, 1, 1, 2, 2, 2, 0, 0, 0, 1, 1, 1, 2, 2, 2, 0, 0, 0, 1, 1, 1, 2, 2, 2,\n",
      "        0, 0, 0, 1, 1, 1, 2, 2, 2, 0, 0, 0, 1, 1, 1, 2, 2, 2, 0, 0, 0, 1, 1, 1,\n",
      "        2, 2, 2, 0, 0, 0, 1, 1, 1, 2, 2, 2])\n",
      "tensor([0, 1, 2, 0, 1, 2, 0, 1, 2, 0, 1, 2, 0, 1, 2, 0, 1, 2, 0, 1, 2, 0, 1, 2,\n",
      "        0, 1, 2, 0, 1, 2, 0, 1, 2, 0, 1, 2, 0, 1, 2, 0, 1, 2, 0, 1, 2, 0, 1, 2,\n",
      "        0, 1, 2, 0, 1, 2, 0, 1, 2, 0, 1, 2, 0, 1, 2, 0, 1, 2, 0, 1, 2, 0, 1, 2,\n",
      "        0, 1, 2, 0, 1, 2, 0, 1, 2, 0, 1, 2, 0, 1, 2, 0, 1, 2, 0, 1, 2, 0, 1, 2,\n",
      "        0, 1, 2, 0, 1, 2, 0, 1, 2, 0, 1, 2])\n"
     ]
    }
   ],
   "source": [
    "batch = X_test.indices()[0]\n",
    "print(batch)\n",
    "\n",
    "channel = X_test.indices()[1]\n",
    "print(channel)\n",
    "\n",
    "x = X_test.indices()[2]\n",
    "print(x)\n",
    "\n",
    "y = X_test.indices()[3]\n",
    "print(y)\n",
    "\n",
    "z = X_test.indices()[4]\n",
    "print(z)"
   ]
  },
  {
   "cell_type": "code",
   "execution_count": 155,
   "id": "4c129c38-44fd-4b67-ac83-41c2f2fc0331",
   "metadata": {},
   "outputs": [
    {
     "data": {
      "text/plain": [
       "tensor([[ 4.9971e-01,  1.2328e+00,  2.0384e+00, -5.7511e-01,  1.7491e+00,\n",
       "         -1.8697e-01, -1.0680e-01, -1.2366e+00,  5.2789e-01, -5.9246e-02,\n",
       "          2.8401e-01, -3.6561e-01, -3.3232e-01,  3.1339e-01, -1.8385e-01,\n",
       "         -6.0661e-01,  1.9325e-02,  9.7819e-01, -7.6808e-01, -9.1338e-01,\n",
       "         -1.1495e+00,  8.1829e-01,  1.0682e-01, -2.2802e-01, -5.9252e-01,\n",
       "         -1.2809e+00, -1.4645e+00,  5.1893e-01,  1.8948e+00,  1.3639e+00,\n",
       "          7.0048e-01,  1.0619e+00,  4.7001e-01,  8.0599e-01, -1.7268e+00,\n",
       "          1.0370e+00,  8.4622e-01, -1.4376e+00,  5.3716e-02,  2.0785e-01,\n",
       "         -7.0793e-01,  1.4923e+00,  6.6330e-01,  5.5278e-01, -9.2275e-01,\n",
       "          3.9079e-01, -6.9143e-01,  3.1872e-01, -1.2764e+00,  1.3960e+00,\n",
       "          1.3330e+00, -8.3634e-01,  4.1304e-01,  2.7874e-01],\n",
       "        [-1.7046e+00, -1.0042e+00,  2.8092e-01, -2.1467e-01, -9.6408e-01,\n",
       "         -1.5369e-03, -8.8052e-01,  1.2631e-01, -1.5284e-01, -1.5630e+00,\n",
       "          5.4541e-01, -6.2236e-01, -4.0395e-01,  1.8593e-01, -1.0984e+00,\n",
       "          2.0409e+00,  3.9594e-01,  6.0666e-01,  1.7354e+00, -9.5321e-01,\n",
       "         -1.0120e+00, -4.2169e-02, -1.0696e-01,  4.1109e-01,  8.8747e-01,\n",
       "         -1.5573e+00, -6.4195e-01,  1.1590e+00, -4.9687e-01, -3.5471e-01,\n",
       "          1.1866e+00, -9.7416e-02,  2.3435e-01,  1.2514e+00,  1.1934e+00,\n",
       "          4.4358e-01, -2.3274e+00, -6.7204e-01,  1.4055e+00,  9.5249e-01,\n",
       "          3.7331e-01, -3.9882e-01, -1.8759e+00, -4.8619e-01, -1.1015e+00,\n",
       "         -2.8258e-01, -8.6935e-01,  1.2760e-01, -5.7703e-01,  4.3014e-01,\n",
       "          3.8021e-01, -8.0130e-01,  3.1322e-01,  1.8803e+00]])"
      ]
     },
     "execution_count": 155,
     "metadata": {},
     "output_type": "execute_result"
    }
   ],
   "source": [
    "F = []\n",
    "for ind in range(in_channels):\n",
    "    F.append( X_test.values()[c == ind] )\n",
    "F = torch.stack(F)\n",
    "F"
   ]
  },
  {
   "cell_type": "code",
   "execution_count": 156,
   "id": "4c49aad3-eb39-4647-a272-f4f1ed590d0e",
   "metadata": {},
   "outputs": [
    {
     "data": {
      "text/plain": [
       "tensor([2, 2, 2, 2, 2, 2, 2, 2, 2, 2, 2, 2, 2, 2, 2, 2, 2, 2, 2, 2, 2, 2, 2, 2,\n",
       "        2, 2, 2, 3, 3, 3, 3, 3, 3, 3, 3, 3, 3, 3, 3, 3, 3, 3, 3, 3, 3, 3, 3, 3,\n",
       "        3, 3, 3, 3, 3, 3])"
      ]
     },
     "execution_count": 156,
     "metadata": {},
     "output_type": "execute_result"
    }
   ],
   "source": [
    "b[c == 0]"
   ]
  },
  {
   "cell_type": "code",
   "execution_count": 48,
   "id": "c1337e7a-5264-4c9b-b493-e06325f655a5",
   "metadata": {},
   "outputs": [
    {
     "data": {
      "text/plain": [
       "tensor([[ 0,  0,  0,  ..., 63, 63, 63],\n",
       "        [ 0,  0,  0,  ...,  2,  2,  2],\n",
       "        [ 0,  0,  0,  ...,  9,  9,  9],\n",
       "        [ 0,  0,  0,  ...,  9,  9,  9],\n",
       "        [ 0,  1,  2,  ...,  7,  8,  9]])"
      ]
     },
     "execution_count": 48,
     "metadata": {},
     "output_type": "execute_result"
    }
   ],
   "source": [
    "in_channels = 3\n",
    "kernel_size = (3,3,3)\n",
    "stride = (2,2,2)\n",
    "weights = nn.Parameter(torch.randn((3,3,3,3)))\n",
    "\n",
    "indices = X_test.coalesce().indices()\n",
    "indices"
   ]
  },
  {
   "cell_type": "code",
   "execution_count": 50,
   "id": "59dbf10a-998c-4ecf-9255-f84c0f245097",
   "metadata": {},
   "outputs": [
    {
     "data": {
      "text/plain": [
       "tensor([-1.9537, -0.4541, -0.6705,  ...,  0.1951, -0.0297, -0.2997])"
      ]
     },
     "execution_count": 50,
     "metadata": {},
     "output_type": "execute_result"
    }
   ],
   "source": [
    "values = X_test.coalesce().values()\n",
    "values"
   ]
  },
  {
   "cell_type": "code",
   "execution_count": 51,
   "id": "9fb35567-6a48-4f2c-af38-d4435268b9be",
   "metadata": {},
   "outputs": [],
   "source": [
    "a = (indices[2].repeat(kernel_size[0],1) -  torch.arange(kernel_size[0])[:, None]) / stride[0]\n",
    "b = ( indices[3].repeat(kernel_size[1],1) -  torch.arange(kernel_size[1])[:, None] ) / stride[1]\n",
    "c = ( indices[4].repeat(kernel_size[2],1) -  torch.arange(kernel_size[2])[:, None] ) / stride[2]"
   ]
  },
  {
   "cell_type": "code",
   "execution_count": 52,
   "id": "764d3cd1-b542-491f-9843-3af81965b083",
   "metadata": {},
   "outputs": [],
   "source": [
    "Ta = (-2.0*(torch.fmod(a,1)-0.5)).type(torch.BoolTensor)\n",
    "Tb = (-2.0*(torch.fmod(b,1)-0.5)).type(torch.BoolTensor)\n",
    "Tc = (-2.0*(torch.fmod(c,1)-0.5)).type(torch.BoolTensor)\n"
   ]
  },
  {
   "cell_type": "code",
   "execution_count": 55,
   "id": "ceeee92f-c1e2-4b43-8abf-a21dd4f11655",
   "metadata": {},
   "outputs": [],
   "source": [
    "out_ind_0 = indices[0][Ta[0]*Tb[1]*Tc[2]]\n",
    "out_ind_1 = indices[1][Ta[0]*Tb[1]*Tc[2]] # I'll probably need to update this to be related to n_fliters somehow\n",
    "out_ind_x = a[0][Ta[0]*Tb[1]*Tc[2]]\n",
    "out_ind_y = b[1][Ta[0]*Tb[1]*Tc[2]]\n",
    "out_ind_z = c[2][Ta[0]*Tb[1]*Tc[2]]\n",
    "out_vals = values[Ta[0]*Tb[1]*Tc[2]]"
   ]
  },
  {
   "cell_type": "code",
   "execution_count": 69,
   "id": "0f7256aa-3169-4f94-a808-71b524690fc8",
   "metadata": {},
   "outputs": [
    {
     "data": {
      "text/plain": [
       "tensor([0, 0, 0,  ..., 2, 2, 2])"
      ]
     },
     "execution_count": 69,
     "metadata": {},
     "output_type": "execute_result"
    }
   ],
   "source": [
    "out_ind_1"
   ]
  },
  {
   "cell_type": "code",
   "execution_count": 67,
   "id": "1c15b12c-590b-4f63-bcd0-5e3dd7e44c3f",
   "metadata": {},
   "outputs": [
    {
     "data": {
      "text/plain": [
       "tensor([0.8145, 0.7646, 1.3358], grad_fn=<SelectBackward0>)"
      ]
     },
     "execution_count": 67,
     "metadata": {},
     "output_type": "execute_result"
    }
   ],
   "source": [
    "weights[:][0][1][2]"
   ]
  },
  {
   "cell_type": "code",
   "execution_count": 74,
   "id": "b4e38065-7cd6-4ed7-a096-b9139a828d29",
   "metadata": {},
   "outputs": [
    {
     "ename": "IndexError",
     "evalue": "too many indices for tensor of dimension 1",
     "output_type": "error",
     "traceback": [
      "\u001b[0;31m---------------------------------------------------------------------------\u001b[0m",
      "\u001b[0;31mIndexError\u001b[0m                                Traceback (most recent call last)",
      "Cell \u001b[0;32mIn[74], line 1\u001b[0m\n\u001b[0;32m----> 1\u001b[0m \u001b[43mweights\u001b[49m\u001b[43m[\u001b[49m\u001b[43m:\u001b[49m\u001b[43m]\u001b[49m\u001b[43m[\u001b[49m\u001b[38;5;241;43m0\u001b[39;49m\u001b[43m]\u001b[49m\u001b[43m[\u001b[49m\u001b[38;5;241;43m1\u001b[39;49m\u001b[43m]\u001b[49m\u001b[43m[\u001b[49m\u001b[38;5;241;43m2\u001b[39;49m\u001b[43m]\u001b[49m\u001b[43m[\u001b[49m\u001b[38;5;241;43m0\u001b[39;49m\u001b[43m,\u001b[49m\u001b[38;5;241;43m1\u001b[39;49m\u001b[43m]\u001b[49m\n",
      "\u001b[0;31mIndexError\u001b[0m: too many indices for tensor of dimension 1"
     ]
    }
   ],
   "source": [
    "weights[:][0][1][2][0,1]"
   ]
  },
  {
   "cell_type": "code",
   "execution_count": 128,
   "id": "2578a21f-7b74-47ad-b4e5-23e04e9c66d7",
   "metadata": {},
   "outputs": [
    {
     "data": {
      "text/plain": [
       "tensor([22., 22., 22.,  ..., 53., 53., 53.])"
      ]
     },
     "execution_count": 128,
     "metadata": {},
     "output_type": "execute_result"
    }
   ],
   "source": [
    "a[0][Ta[0]]"
   ]
  },
  {
   "cell_type": "code",
   "execution_count": 160,
   "id": "03049175-3c4f-4669-9df5-2a0ea6b90afa",
   "metadata": {},
   "outputs": [
    {
     "data": {
      "text/plain": [
       "tensor(0.7120, grad_fn=<SelectBackward0>)"
      ]
     },
     "execution_count": 160,
     "metadata": {},
     "output_type": "execute_result"
    }
   ],
   "source": [
    "weights = nn.Parameter(torch.randn(kernel_size))\n",
    "weights[0][0][0]"
   ]
  },
  {
   "cell_type": "code",
   "execution_count": 24,
   "id": "3ae585a7-b96e-414f-8f3d-72bb8519d8b6",
   "metadata": {},
   "outputs": [],
   "source": [
    "SC = SparseConv3D(stride = (2,2,2))"
   ]
  },
  {
   "cell_type": "code",
   "execution_count": 25,
   "id": "6ad6de96-fc6e-4b03-a213-7d537a0e7b5b",
   "metadata": {},
   "outputs": [
    {
     "data": {
      "text/plain": [
       "tensor([1, 1, 2,  ..., 1, 1, 2], dtype=torch.uint8)"
      ]
     },
     "execution_count": 25,
     "metadata": {},
     "output_type": "execute_result"
    }
   ],
   "source": [
    "SC(X_plot)"
   ]
  },
  {
   "cell_type": "code",
   "execution_count": 71,
   "id": "7a90f11d-744b-4bd1-8357-96f5be82b351",
   "metadata": {},
   "outputs": [
    {
     "data": {
      "text/plain": [
       "'torch.FloatTensor'"
      ]
     },
     "execution_count": 71,
     "metadata": {},
     "output_type": "execute_result"
    }
   ],
   "source": [
    "SC(X).type()"
   ]
  },
  {
   "cell_type": "code",
   "execution_count": 82,
   "id": "cc68c0cd-bcde-4b06-8c16-8a1360eaff79",
   "metadata": {},
   "outputs": [
    {
     "data": {
      "text/plain": [
       "torch.Size([3, 760])"
      ]
     },
     "execution_count": 82,
     "metadata": {},
     "output_type": "execute_result"
    }
   ],
   "source": [
    "SC(X).shape"
   ]
  },
  {
   "cell_type": "code",
   "execution_count": 73,
   "id": "5acac541-6142-4050-b993-1224b89e1475",
   "metadata": {},
   "outputs": [],
   "source": [
    "T_vals = (-2.0*(torch.fmod(SC(X),1)-0.5)).type(torch.BoolTensor)"
   ]
  },
  {
   "cell_type": "code",
   "execution_count": 74,
   "id": "06d934d9-535f-4117-ac8d-e56176b972cb",
   "metadata": {},
   "outputs": [
    {
     "data": {
      "text/plain": [
       "tensor([[False, False,  True,  ...,  True, False, False],\n",
       "        [ True,  True, False,  ..., False,  True,  True],\n",
       "        [False, False,  True,  ...,  True, False, False]])"
      ]
     },
     "execution_count": 74,
     "metadata": {},
     "output_type": "execute_result"
    }
   ],
   "source": [
    "T_vals"
   ]
  },
  {
   "cell_type": "code",
   "execution_count": 53,
   "id": "73734ef8-05fc-44fa-8ce9-e3add4a43996",
   "metadata": {},
   "outputs": [
    {
     "data": {
      "text/plain": [
       "tensor([22., 22., 22., 22., 22., 22., 23., 23., 23., 23., 23., 23., 23., 23.,\n",
       "        23., 23., 23., 23., 23., 23., 23., 23., 23., 23., 23., 23., 23., 23.,\n",
       "        23., 24., 24., 24., 24., 24., 24., 24., 24., 24., 24., 24., 24., 24.,\n",
       "        24., 24., 24., 24., 24., 24., 24., 24., 24., 24., 24., 24., 24., 24.,\n",
       "        24., 24., 24., 24., 24., 24., 24., 24., 24., 24., 24., 25., 25., 25.,\n",
       "        25., 25., 25., 25., 25., 25., 25., 25., 25., 25., 25., 25., 25., 25.,\n",
       "        25., 25., 25., 25., 25., 25., 25., 25., 25., 25., 26., 26., 26., 26.,\n",
       "        26., 26., 26., 26., 26., 26., 26., 26., 26., 26., 26., 26., 26., 27.,\n",
       "        27., 27., 27., 27., 27., 27., 27., 27., 27., 27., 27., 27., 27., 27.,\n",
       "        27., 27., 27., 27., 28., 28., 28., 28., 28., 28., 28., 28., 28., 28.,\n",
       "        28., 28., 28., 28., 28., 28., 28., 28., 28., 28., 28., 28., 28., 29.,\n",
       "        29., 29., 29., 29., 29., 29., 29., 29., 29., 29., 29., 29., 29., 29.,\n",
       "        29., 29., 29., 29., 29., 29., 29., 29., 29., 29., 29., 30., 30., 30.,\n",
       "        30., 30., 30., 30., 30., 30., 30., 30., 30., 30., 30., 30., 30., 30.,\n",
       "        30., 30., 30., 30., 30., 30., 31., 31., 31., 31., 31., 31., 31., 31.,\n",
       "        31., 31., 31., 31., 31., 31., 31., 31., 31., 31., 31., 31., 31., 31.,\n",
       "        31., 31., 31., 31., 31., 31., 31., 31., 31., 31., 31., 31., 31., 32.,\n",
       "        32., 32., 32., 32., 32., 32., 32., 32., 32., 32., 32., 32., 32., 32.,\n",
       "        32., 32., 32., 32., 32., 32., 32., 32., 33., 33., 33., 33., 33., 33.,\n",
       "        33., 33., 33., 33., 33., 33., 33., 33., 33., 33., 33., 33., 33., 33.,\n",
       "        33., 33., 33., 33., 33., 33., 33., 33., 33., 33., 33., 33., 34., 34.,\n",
       "        34., 34., 34., 34., 34., 34., 34., 34., 34., 34., 34., 34., 34., 34.,\n",
       "        34., 34., 34., 34., 34., 34., 34., 34., 34., 34., 34., 34., 35., 35.,\n",
       "        35., 35., 35., 35., 35., 35., 35., 35., 35., 35., 35., 35., 35., 35.,\n",
       "        35., 35., 35., 35., 35., 36., 36., 36., 36., 36., 36., 36., 36., 37.,\n",
       "        37., 37., 38., 38., 38., 38., 38., 39., 39., 39., 39.])"
      ]
     },
     "execution_count": 53,
     "metadata": {},
     "output_type": "execute_result"
    }
   ],
   "source": [
    "SC(X)[0][T_vals[0]]"
   ]
  },
  {
   "cell_type": "code",
   "execution_count": 99,
   "id": "53a80ae5-f765-49f1-9955-bd56b4385cd0",
   "metadata": {},
   "outputs": [
    {
     "data": {
      "text/plain": [
       "torch.Size([3, 838])"
      ]
     },
     "execution_count": 99,
     "metadata": {},
     "output_type": "execute_result"
    }
   ],
   "source": [
    "s=2\n",
    "((X.coalesce().indices()[1].repeat(3,1)-torch.arange(kernel_size[0])[:, None])/s).shape"
   ]
  },
  {
   "cell_type": "code",
   "execution_count": 80,
   "id": "2ad3fef5-7448-4ceb-919a-b0efff172c09",
   "metadata": {},
   "outputs": [
    {
     "data": {
      "text/plain": [
       "tensor([33, 33, 33, 34, 34, 34, 34, 34, 34, 34, 34, 34, 34, 34, 35, 35, 35, 35,\n",
       "        35, 35, 35, 35, 35, 35, 35, 35, 35, 35, 35, 35, 35, 36, 36, 36, 36, 36,\n",
       "        36, 36, 36, 36, 36, 36, 36, 36, 36, 36, 36, 36, 36, 36, 36, 36, 36, 37,\n",
       "        37, 37, 37, 37, 37, 37, 37, 37, 37, 37, 37, 37, 37, 37, 37, 37, 37, 37,\n",
       "        37, 37, 37, 37, 37, 38, 38, 38, 38, 38, 38, 38, 38, 38, 38, 38, 38, 38,\n",
       "        38, 38, 38, 38, 38, 38, 38, 38, 38, 39, 39, 39, 39, 39, 39, 39, 39, 39,\n",
       "        39, 39, 39, 39, 39, 39, 39, 39, 40, 40, 40, 40, 40, 40, 40, 40, 40, 40,\n",
       "        40, 40, 40, 40, 40, 40, 41, 41, 41, 41, 41, 41, 41, 41, 41, 41, 41, 41,\n",
       "        41, 41, 41, 41, 41, 42, 42, 42, 42, 42, 42, 42, 42, 42, 42, 43, 43, 43,\n",
       "        43, 43, 43, 43, 43, 43, 43, 43, 43, 43, 43, 43, 44, 44, 44, 44, 44, 44,\n",
       "        44, 44, 44, 44, 44, 44, 44, 44, 44, 44, 45, 45, 45, 45, 45, 45, 45, 45,\n",
       "        45, 45, 45, 45, 45, 46, 46, 46, 46, 46, 46, 46, 46, 46, 46, 46, 46, 46,\n",
       "        46, 46, 46, 47, 47, 47, 47, 47, 47, 47, 47, 47, 47, 47, 47, 47, 47, 47,\n",
       "        47, 47, 47, 47, 47, 47, 47, 47, 47, 47, 47, 47, 47, 47, 48, 48, 48, 48,\n",
       "        48, 48, 48, 48, 48, 48, 48, 48, 48, 48, 48, 48, 48, 48, 48, 48, 48, 48,\n",
       "        48, 48, 48, 48, 48, 48, 48, 48, 48, 48, 49, 49, 49, 49, 49, 49, 49, 49,\n",
       "        49, 49, 49, 49, 49, 49, 49, 49, 49, 49, 49, 49, 49, 49, 49, 49, 50, 50,\n",
       "        50, 50, 50, 50, 50, 50, 50, 50, 50, 51, 51, 51, 52, 52, 52, 52, 53, 53,\n",
       "        53, 53, 54, 54, 54, 54, 54, 54, 54, 54, 54, 54, 54, 54, 54, 54, 55, 55,\n",
       "        55, 55, 55, 55, 55, 55, 55, 55, 55, 55, 56, 56, 56, 56, 56, 56, 56, 56,\n",
       "        56, 57, 57, 57, 57, 57, 57, 57, 58, 58, 58, 58, 58, 59, 59, 59, 59, 59,\n",
       "        59, 59, 59, 59, 59, 59, 59, 59, 59, 60, 60, 60, 60, 60, 60, 60, 60, 60,\n",
       "        60, 60, 60, 60, 60, 60, 60, 60, 60, 60, 60, 60, 60, 61, 61, 61, 61, 61,\n",
       "        61, 61, 61, 61, 61, 61, 61, 61, 61, 61, 61, 61, 61, 61, 61, 61, 61, 61,\n",
       "        61, 61, 61, 61, 61, 61, 61, 61, 62, 62, 62, 62, 62, 62, 62, 62, 62, 62,\n",
       "        62, 62, 62, 62, 62, 62, 62, 62, 62, 62, 62, 62, 62, 62, 62, 62, 62, 62,\n",
       "        62, 62, 62, 62, 62, 62, 62, 63, 63, 63, 63, 63, 63, 63, 63, 63, 63, 63,\n",
       "        63, 63, 63, 63, 63, 63, 63, 63, 63, 63, 63, 63, 63, 63, 63, 63, 63, 63,\n",
       "        63, 63, 63, 63, 63, 63, 63, 63, 63, 63, 63, 63, 63, 64, 64, 64, 64, 64,\n",
       "        64, 64, 64, 64, 64, 64, 64, 64, 64, 64, 64, 64, 64, 64, 64, 64, 64, 64,\n",
       "        64, 64, 64, 64, 64, 64, 64, 64, 64, 64, 64, 64, 64, 64, 64, 64, 64, 64,\n",
       "        64, 64, 64, 64, 64, 64, 64, 64, 64, 65, 65, 65, 65, 65, 65, 65, 65, 65,\n",
       "        65, 65, 65, 65, 65, 65, 65, 65, 65, 65, 65, 65, 65, 65, 65, 65, 65, 65,\n",
       "        65, 65, 65, 65, 65, 65, 65, 65, 65, 65, 65, 65, 65, 65, 65, 65, 65, 65,\n",
       "        65, 65, 65, 65, 65, 65, 65, 65, 65, 65, 65, 65, 65, 65, 65, 65, 65, 65,\n",
       "        65, 65, 65, 65, 65, 65, 66, 66, 66, 66, 66, 66, 66, 66, 66, 66, 66, 66,\n",
       "        66, 66, 66, 66, 66, 66, 66, 66, 66, 66, 66, 66, 66, 66, 66, 66, 66, 66,\n",
       "        66, 66, 66, 66, 66, 66, 66, 66, 66, 66, 66, 66, 66, 66, 66, 66, 66, 66,\n",
       "        66, 66, 66, 66, 66, 66, 66, 66, 66, 66, 66, 66, 66, 66, 66, 66, 66, 66,\n",
       "        66, 66, 66, 66, 66, 66, 67, 67, 67, 67, 67, 67, 67, 67, 67, 67, 67, 67,\n",
       "        67, 67, 67, 67, 67, 67, 67, 67, 67, 67, 67, 67, 67, 67, 67, 67, 67, 67,\n",
       "        67, 67, 67, 67, 67, 67, 67, 67, 67, 67, 67, 67, 67, 67, 67, 67, 67, 67,\n",
       "        67, 67, 67, 67, 67, 67, 67, 67, 68, 68, 68, 68, 68, 68, 68, 68, 68, 68,\n",
       "        68, 68, 68, 68, 68, 68, 68, 68, 68, 68, 68, 68, 68, 68, 68, 68, 68, 68,\n",
       "        68, 68, 68, 68, 68, 68, 68, 68, 68, 68, 68, 68, 68, 68, 68, 68, 69, 69,\n",
       "        69, 69, 69, 69, 69, 69, 69, 69, 69, 69, 69, 69, 69, 69, 69, 69, 69, 69,\n",
       "        69, 69, 69, 69, 69, 69, 70, 70, 70, 70])"
      ]
     },
     "execution_count": 80,
     "metadata": {},
     "output_type": "execute_result"
    }
   ],
   "source": [
    "X.coalesce().indices()[1]-torch.arange(kernel_size[0])\n"
   ]
  },
  {
   "cell_type": "code",
   "execution_count": 69,
   "id": "110f6f78-2f79-4482-84df-511f0fb9846c",
   "metadata": {},
   "outputs": [
    {
     "data": {
      "text/plain": [
       "tensor(indices=tensor([[ 0,  0,  0,  ...,  0,  0,  0],\n",
       "                       [34, 34, 34,  ..., 71, 71, 71],\n",
       "                       [31, 32, 33,  ..., 79, 79, 80],\n",
       "                       [73, 72, 72,  ..., 50, 52, 52]]),\n",
       "       values=tensor([ 1,  1,  1,  1,  1,  1,  1,  1,  1,  1,  2,  1,  1,  2,\n",
       "                       1,  1,  2,  2,  2,  2,  1,  1,  3,  2,  2,  2,  1,  2,\n",
       "                       1,  2,  1,  1,  1,  1,  1,  1,  1,  1,  1,  1,  2,  2,\n",
       "                       1,  1,  1,  1,  1,  2,  1,  1,  1,  1,  1,  1,  1,  1,\n",
       "                       2,  1,  1,  1,  1,  2,  2,  1,  1,  1,  1,  2,  1,  1,\n",
       "                       2,  1,  1,  1,  1,  1,  1,  1,  1,  1,  1,  3,  2,  1,\n",
       "                       1,  1,  1,  1,  2,  1,  1,  1,  1,  1,  1,  1,  1,  1,\n",
       "                       1,  1,  2,  1,  2,  1,  1,  1,  3,  1,  1,  1,  1,  1,\n",
       "                       1,  1,  2,  1,  1,  1,  1,  1,  1,  1,  1,  1,  1,  1,\n",
       "                       1,  1,  1,  1,  1,  1,  1,  1,  1,  2,  1,  2,  1,  1,\n",
       "                       1,  1,  1,  1,  1,  1,  1,  1,  1,  2,  1,  2,  1,  1,\n",
       "                       1,  1,  1,  1,  1,  1,  1,  1,  1,  1,  1,  1,  1,  1,\n",
       "                       1,  1,  1,  1,  1,  1,  1,  2,  1,  1,  1,  2,  1,  1,\n",
       "                       1,  1,  1,  3,  1,  4,  2,  1,  1,  1,  1,  1,  1,  1,\n",
       "                       2,  1,  1,  1,  1,  2,  2,  1,  2,  1,  1,  1,  1,  1,\n",
       "                       1,  1,  1,  2,  1,  1,  1,  1,  1,  1,  1,  2,  1,  1,\n",
       "                       1,  1,  1,  1,  1,  1,  2,  1,  1,  1,  1,  1,  1,  1,\n",
       "                       2,  1,  1,  1,  1,  1,  2,  5,  3,  1,  1,  2,  2,  2,\n",
       "                       2,  1,  2,  1,  1,  1,  1,  1,  1,  1,  1,  1,  3,  1,\n",
       "                       1,  1,  2,  1,  1,  2,  1,  1,  1,  2,  2,  1,  1,  1,\n",
       "                       1,  1,  1,  2,  2,  1,  1,  2,  1,  1,  1,  1,  2,  1,\n",
       "                       1,  2,  1,  1,  1,  1,  1,  1,  2,  2,  1,  1,  2,  1,\n",
       "                       1,  2,  1,  1,  1,  2,  2,  2,  1,  1,  1,  1,  1,  1,\n",
       "                       2,  1,  1,  1,  1,  1,  1,  1,  1,  1,  1,  1,  1,  1,\n",
       "                       1,  1,  1,  1,  1,  1,  3,  2,  3,  1,  1,  2,  1,  1,\n",
       "                       1,  1,  1,  2,  1,  1,  3,  1,  2,  1,  1,  1,  1,  1,\n",
       "                       1,  1,  1,  1,  1,  1,  2,  1,  1,  1,  1,  2,  1,  1,\n",
       "                       1,  1,  1,  1,  1,  1,  1,  1,  1,  1,  1,  1,  1,  2,\n",
       "                       1,  1,  1,  2,  2,  1,  1,  2,  2,  1,  2,  1,  1,  1,\n",
       "                       1,  2,  1,  1,  1,  1,  3,  4,  4,  3,  1,  1,  1,  4,\n",
       "                       1,  1,  1,  1,  1,  1,  2,  1,  1,  1,  2,  1,  1,  1,\n",
       "                       2,  3,  1,  1,  3,  1,  1,  3,  3,  2,  2,  3,  1,  1,\n",
       "                       2,  3,  1,  3,  3,  2,  2,  1,  1,  1,  1,  1,  2,  2,\n",
       "                       3,  4,  1,  1,  1,  7,  1,  1,  1,  4,  1,  1,  1,  1,\n",
       "                       1,  1,  2,  1,  1,  3,  1,  1,  1,  1,  2,  1,  1,  2,\n",
       "                       1,  3,  2,  1,  2,  1,  2,  1,  1,  1,  1,  1,  1,  1,\n",
       "                       3,  3,  1,  4,  1,  4,  2,  1,  1,  1,  1,  1,  1,  1,\n",
       "                       1,  1,  1,  2,  1,  1,  1,  1,  2,  2,  1,  2,  1,  1,\n",
       "                       2,  1,  1,  1,  1,  1,  1,  2,  1,  1,  1,  1,  1,  2,\n",
       "                       2,  2,  2,  1,  2,  3,  1,  1,  2,  2,  2,  1,  1,  2,\n",
       "                       2,  2,  2,  3,  2,  1,  3,  1,  1,  1,  1,  2,  2,  1,\n",
       "                       1,  4,  4,  3,  2,  2,  2,  2,  2,  1,  1,  1,  1,  1,\n",
       "                       1,  2,  2,  1,  1,  2,  1,  2,  2,  1,  2,  1,  1,  1,\n",
       "                       2,  2,  1,  1,  1,  2,  1,  1,  2,  1,  3,  1,  1,  1,\n",
       "                       1,  1,  1,  1,  3,  1,  1,  1,  1,  1,  1,  1,  3,  3,\n",
       "                       3,  2,  1,  1,  3,  2,  1,  1,  3,  1,  1,  1,  1,  3,\n",
       "                       6,  1,  1,  2,  5,  1,  1,  2,  1,  2,  2,  1,  1,  2,\n",
       "                       1,  1,  1,  1,  2,  1,  1,  2,  1,  1,  1,  1,  1,  1,\n",
       "                       1,  1,  2,  2,  1,  1,  5,  1,  2,  2,  1,  1,  1,  3,\n",
       "                       4,  3,  7,  2,  4,  2,  5,  3,  4,  2,  1,  2,  4,  1,\n",
       "                       2,  1,  1,  3,  3,  2,  1,  1,  1,  3,  2,  1,  1,  1,\n",
       "                       1,  2,  2,  2,  1,  1,  2,  1,  1,  3,  1,  1,  3,  5,\n",
       "                       3,  4,  3,  1,  3,  1,  5,  4,  4, 11,  9,  5,  3,  9,\n",
       "                       7,  8,  4,  3, 10,  9,  3,  1,  1,  2,  6,  5,  3,  3,\n",
       "                       1,  1,  2,  2,  2,  2,  1,  1,  1,  1,  1,  1,  1,  2,\n",
       "                       1,  1,  2,  3,  1,  1,  1,  3,  6,  5,  3,  9,  6,  4,\n",
       "                       1,  6, 11,  6,  4,  2,  3,  4,  2,  1,  2,  7, 14, 12,\n",
       "                       3,  1,  2,  1,  2,  4, 10,  3,  1,  1,  1,  2,  2,  2,\n",
       "                       2,  2,  1,  2,  3,  1,  1,  4, 12,  2,  5,  1,  6,  7,\n",
       "                       4,  1,  1,  1,  2,  2,  3,  1,  1,  2,  1,  1]),\n",
       "       size=(1, 120, 120, 120), nnz=838, dtype=torch.uint8,\n",
       "       layout=torch.sparse_coo)"
      ]
     },
     "execution_count": 69,
     "metadata": {},
     "output_type": "execute_result"
    }
   ],
   "source": [
    "X"
   ]
  },
  {
   "cell_type": "code",
   "execution_count": 19,
   "id": "9a306b71-8692-4509-9444-e63149c80f10",
   "metadata": {},
   "outputs": [
    {
     "data": {
      "text/plain": [
       "Parameter containing:\n",
       "tensor([ 1.8243, -0.2898], requires_grad=True)"
      ]
     },
     "execution_count": 19,
     "metadata": {},
     "output_type": "execute_result"
    }
   ],
   "source": [
    "kernel_size = (3,3,3)\n",
    "nn.Parameter(torch.randn(kernel_size)).shape\n",
    "\n",
    "out_channels = 2\n",
    "\n",
    "nn.Parameter(torch.randn(out_channels))\n"
   ]
  },
  {
   "cell_type": "markdown",
   "id": "5042d17c-6d88-4929-bc97-c1427004f3e4",
   "metadata": {},
   "source": [
    "# Define Convnet Architecture"
   ]
  },
  {
   "cell_type": "code",
   "execution_count": 122,
   "id": "2164f207-01a8-4f08-b732-aa8afdc31400",
   "metadata": {},
   "outputs": [
    {
     "name": "stdout",
     "output_type": "stream",
     "text": [
      "Using cuda device\n",
      "NeuralNetwork(\n",
      "  (conv1): Conv3d(1, 50, kernel_size=(6, 6, 6), stride=(2, 2, 2))\n",
      "  (pool): MaxPool3d(kernel_size=2, stride=2, padding=0, dilation=1, ceil_mode=False)\n",
      "  (conv2): Conv3d(50, 30, kernel_size=(4, 4, 4), stride=(1, 1, 1))\n",
      "  (conv3): Conv3d(30, 20, kernel_size=(3, 3, 3), stride=(1, 1, 1))\n",
      "  (fc1): Linear(in_features=34560, out_features=100, bias=True)\n",
      "  (fc2_1): Linear(in_features=100, out_features=30, bias=True)\n",
      "  (fc3_1): Linear(in_features=30, out_features=3, bias=True)\n",
      "  (fc2_2): Linear(in_features=100, out_features=30, bias=True)\n",
      "  (fc3_2): Linear(in_features=30, out_features=1, bias=True)\n",
      ")\n"
     ]
    }
   ],
   "source": [
    "# Get cpu or gpu device for training.\n",
    "device = \"cuda\" if torch.cuda.is_available() else \"mps\" if torch.backends.mps.is_available() else \"cpu\"\n",
    "print(f\"Using {device} device\")\n",
    "\n",
    "\n",
    "# Define model\n",
    "class NeuralNetwork(nn.Module):\n",
    "    def __init__(self):\n",
    "        super().__init__()\n",
    "        self.conv1 = nn.Conv3d(in_channels=1, out_channels=50, kernel_size=6, stride=2)\n",
    "        self.pool = nn.MaxPool3d(kernel_size=2, stride=2)\n",
    "        self.conv2 = nn.Conv3d(in_channels=50, out_channels=30, kernel_size=4, stride=1)\n",
    "        self.conv3 = nn.Conv3d(in_channels=30, out_channels=20, kernel_size=3, stride=1)\n",
    "        self.fc1 = nn.Linear(12**3 *20, 100)\n",
    "        self.fc2_1 = nn.Linear(100, 30)\n",
    "        self.fc3_1 = nn.Linear(30, 3)\n",
    "        self.fc2_2 = nn.Linear(100, 30)\n",
    "        self.fc3_2 = nn.Linear(30, 1)\n",
    "\n",
    "    def forward(self, x):\n",
    "        x = self.pool(F.relu(self.conv1(x)))\n",
    "        x = F.relu(self.conv2(x))\n",
    "        x = self.pool(F.relu(self.conv3(x)))\n",
    "        x = torch.flatten(x, 1) # flatten all dimensions except batch\n",
    "        x = F.relu(self.fc1(x))\n",
    "        x1 = torch.tanh(self.fc2_1(x))\n",
    "        x1 = F.normalize(self.fc3_1(x1),dim=1)\n",
    "        x2 = F.relu(self.fc2_2(x))\n",
    "        x2 = F.softplus(self.fc3_2(x2))\n",
    "        return x1,x2\n",
    "\n",
    "model = NeuralNetwork().to(device)\n",
    "\n",
    "# Print a nicer model summary\n",
    "print(model)"
   ]
  },
  {
   "cell_type": "markdown",
   "id": "840324e3-654c-4dd0-8de1-36fbb89a82e1",
   "metadata": {},
   "source": [
    "# Test sparse conv"
   ]
  },
  {
   "cell_type": "code",
   "execution_count": 123,
   "id": "6b476f68-e293-4f96-9d73-dfbeeb7c1f01",
   "metadata": {},
   "outputs": [],
   "source": [
    "conv = nn.Conv3d(in_channels=1, out_channels=50, kernel_size=6, stride=2)\n",
    "pool = nn.MaxPool3d(kernel_size=2, stride=2)"
   ]
  },
  {
   "cell_type": "code",
   "execution_count": 127,
   "id": "d07a9592-9325-40c3-83f1-b2e2ecff1bf8",
   "metadata": {},
   "outputs": [
    {
     "data": {
      "text/plain": [
       "torch.Size([1, 60, 60, 60])"
      ]
     },
     "execution_count": 127,
     "metadata": {},
     "output_type": "execute_result"
    }
   ],
   "source": [
    "pool(X.type(torch.FloatTensor).to_dense()).shape"
   ]
  },
  {
   "cell_type": "code",
   "execution_count": 78,
   "id": "54bdd9f8-d157-4962-a764-fb8383948f3c",
   "metadata": {},
   "outputs": [],
   "source": [
    "#conv(X_plot.type(torch.FloatTensor).to_dense())"
   ]
  },
  {
   "cell_type": "code",
   "execution_count": 105,
   "id": "4f8b4001-df61-4a1d-828e-f3b73969539a",
   "metadata": {},
   "outputs": [],
   "source": [
    "x_ind = X_plot[0].coalesce().indices()[1]\n",
    "y_ind = X_plot[0].coalesce().indices()[2]\n",
    "z_ind = X_plot[0].coalesce().indices()[3]\n",
    "\n",
    "vals = X_plot[0].coalesce().values()"
   ]
  },
  {
   "cell_type": "code",
   "execution_count": 106,
   "id": "c6f4e623-3e86-48a9-9960-8c30f464875a",
   "metadata": {},
   "outputs": [
    {
     "data": {
      "text/plain": [
       "torch.Size([200, 1, 120, 120, 120])"
      ]
     },
     "execution_count": 106,
     "metadata": {},
     "output_type": "execute_result"
    }
   ],
   "source": [
    "X_plot.shape"
   ]
  },
  {
   "cell_type": "code",
   "execution_count": 101,
   "id": "cc1c2695-96f9-4f8b-b07c-7ba58c3fca0a",
   "metadata": {},
   "outputs": [
    {
     "data": {
      "text/plain": [
       "tensor(1.)"
      ]
     },
     "execution_count": 101,
     "metadata": {},
     "output_type": "execute_result"
    }
   ],
   "source": [
    "X_plot.type(torch.FloatTensor).to_dense()[1,0,48,55,27]\n"
   ]
  },
  {
   "cell_type": "markdown",
   "id": "a9c6c9d9-757e-420c-ad6f-63911baab785",
   "metadata": {},
   "source": [
    "# Evaluating Performance"
   ]
  },
  {
   "cell_type": "code",
   "execution_count": null,
   "id": "45c85e00-c2a4-47d0-9639-5c7ed7adb8da",
   "metadata": {},
   "outputs": [],
   "source": [
    "# Plot Training and Validation Loss\n",
    "# Indicate where the final model stopped training\n",
    "\n",
    "best_epoch = np.argmin(Validation_losses)\n",
    "\n",
    "plt.plot(np.arange(len(Training_losses)),Training_losses,label=\"Training Loss\")\n",
    "plt.plot(np.arange(len(Validation_losses)),Validation_losses,label=\"Validation Loss\")\n",
    "plt.axvline(best_epoch,label=\"Final model stopped here\",color='k')\n",
    "plt.xlabel('Epoch')\n",
    "plt.ylabel('Cosine Similarity Loss')\n",
    "plt.legend()\n"
   ]
  },
  {
   "cell_type": "markdown",
   "id": "6b7b6f17-057a-4fad-8b14-a86b6d30e259",
   "metadata": {},
   "source": [
    "# Save the Model"
   ]
  },
  {
   "cell_type": "code",
   "execution_count": null,
   "id": "176dad4a-cc29-488c-887b-aad8ae00be06",
   "metadata": {},
   "outputs": [],
   "source": [
    "torch.save(final_model.state_dict(), \"../3D_Heteroscedastic_Convnet_models/3D_HSCDC_CNN_1.pth\")\n",
    "print(\"Saved PyTorch Model State to ../3D_Heteroscedastic_Convnet_models/3D_CNN.pth\")"
   ]
  },
  {
   "cell_type": "code",
   "execution_count": null,
   "id": "6e3c4f82-7d15-4181-a75d-9ccb222969c8",
   "metadata": {},
   "outputs": [],
   "source": []
  },
  {
   "cell_type": "code",
   "execution_count": null,
   "id": "d26ce76a-9f7a-45c4-a5eb-65d9676f089a",
   "metadata": {},
   "outputs": [],
   "source": []
  }
 ],
 "metadata": {
  "kernelspec": {
   "display_name": "pytorch_env",
   "language": "python",
   "name": "pytorch_env"
  },
  "language_info": {
   "codemirror_mode": {
    "name": "ipython",
    "version": 3
   },
   "file_extension": ".py",
   "mimetype": "text/x-python",
   "name": "python",
   "nbconvert_exporter": "python",
   "pygments_lexer": "ipython3",
   "version": "3.10.9"
  }
 },
 "nbformat": 4,
 "nbformat_minor": 5
}
