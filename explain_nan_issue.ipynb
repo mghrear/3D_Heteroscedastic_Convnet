{
 "cells": [
  {
   "cell_type": "code",
   "execution_count": 1,
   "id": "fd2e6ffd-ee56-4f14-ba45-439e1e45857d",
   "metadata": {
    "tags": []
   },
   "outputs": [],
   "source": [
    "import numpy as np\n",
    "import pandas as pd\n",
    "import torch\n",
    "import copy\n",
    "from torch import nn\n",
    "import torch.nn.functional as F\n",
    "from torch.utils.data import DataLoader\n",
    "import torchvision\n",
    "from torchvision import datasets\n",
    "import spconv.pytorch as spconv\n",
    "import matplotlib.pyplot as plt\n",
    "import mytools\n",
    "import mymodels"
   ]
  },
  {
   "cell_type": "markdown",
   "id": "14ca7436-5aa9-4d78-b591-892fff6ddbe1",
   "metadata": {},
   "source": [
    "# Loss Function"
   ]
  },
  {
   "cell_type": "markdown",
   "id": "88dc2c16-dc12-41c2-9ea2-8f0b6af857a1",
   "metadata": {},
   "source": [
    "The original NLL loss function is\n",
    "$$\n",
    "    NLL = \\frac{-1}{N}\\sum_{i = 1}^N  \\ln(\\frac{\\kappa_i}{4 \\pi \\sinh{\\kappa_i}}) + \\kappa_i ( \\mathbf{y}_i \\cdot \\hat{\\mathbf{y}}_i )\n",
    "$$\n",
    "\n",
    "First, note that the 1st term of our loss function explodes if $\\kappa_i > 87$, while an almost equivalent high K approximation (loss2) does not. Idea: use loss2 to replace the first term of the loss function (loss1) for high $\\kappa_i$\n"
   ]
  },
  {
   "cell_type": "code",
   "execution_count": 13,
   "id": "0a95bed8-85d9-49e7-9ff4-9c461441cf5d",
   "metadata": {},
   "outputs": [
    {
     "name": "stdout",
     "output_type": "stream",
     "text": [
      "kappa:  tensor(2.6500)\n",
      "Original 1st term:  tensor(3.5083)\n",
      "High K approx.:  tensor(3.5133)\n",
      "O(15) TS about 0:  tensor(3.5134)\n",
      "--------------------------------------------\n",
      "loss1-loss2 is 0:  tensor(False) tensor(-0.0050) frac error:  tensor(-0.0014)\n",
      "loss1-loss3 is 0:  tensor(False) tensor(-0.0050) frac error:  tensor(-0.0014)\n"
     ]
    }
   ],
   "source": [
    "# Specify the vallue of Kappa \n",
    "K = torch.tensor(2.65)\n",
    "\n",
    "# The 1st term of the NLL loss function\n",
    "loss1 = -1.0 * torch.log(torch.div(K,4*torch.pi*torch.sinh(K)))\n",
    "\n",
    "# A high K approximation of the 1st term of the NLL loss\n",
    "loss2 = -1.0 * ( torch.log(torch.div(K,2*torch.pi)) - K )\n",
    "\n",
    "# 15th order Taylor series of 1st term of the NLL loss at kappa =0\n",
    "# This serves as a low Kappa approximation\n",
    "loss3 = K**2/6 - K**4/180 + K**6/2835 - K**8/37800 + K**10/467775 - (691* (K**12) )/ 3831077250 + (2 * (K**14))/127702575 + torch.log(torch.tensor(4)*torch.pi)\n",
    "\n",
    "\n",
    "\n",
    "print(\"kappa: \", K)\n",
    "print(\"Original 1st term: \", loss1)\n",
    "print(\"High K approx.: \", loss2)\n",
    "print(\"O(15) TS about 0: \", loss3)\n",
    "print(\"--------------------------------------------\")\n",
    "print(\"loss1-loss2 is 0: \", (loss1-loss2)==0, loss1-loss2, \"frac error: \", (loss1-loss2)/loss1 )\n",
    "\n",
    "print(\"loss1-loss3 is 0: \", (loss1-loss3)==0, loss1-loss3, \"frac error: \", (loss1-loss3)/loss1)\n",
    "\n",
    "\n"
   ]
  },
  {
   "cell_type": "markdown",
   "id": "06bdad89-73e9-47d1-af2d-6d8dc50a0a55",
   "metadata": {},
   "source": [
    "# Gradients"
   ]
  },
  {
   "cell_type": "markdown",
   "id": "815a5a0c-9987-4dc3-9adc-b1fa77664809",
   "metadata": {},
   "source": [
    "Pytorch seems to have issues computing the gradient of 1st term of our loss function, even before it explodes. Idea: use approximation (loss2) when Kappa > 9, otherwise use original (loss1)."
   ]
  },
  {
   "cell_type": "code",
   "execution_count": 3,
   "id": "b0a28575-c160-4503-8f98-0f00a2d80bf2",
   "metadata": {},
   "outputs": [
    {
     "name": "stdout",
     "output_type": "stream",
     "text": [
      "Analytic grad:  tensor(0.8889)\n",
      "Torch grad:  tensor(0.8889)\n",
      "Torch grad approx:  tensor(0.8889)\n",
      "Torch grad TS:  tensor(496788.5625)\n",
      "----------------------------------------------\n",
      "error grad2:  tensor(1.1921e-07) , fractional error:  tensor(0.)\n",
      "error grad3:  tensor(-496787.6875) , fractional error:  tensor(-558886.1250)\n"
     ]
    }
   ],
   "source": [
    "val = 9.0\n",
    "\n",
    "# Analytic grad of 1st term of our loss function\n",
    "x = torch.tensor(val, requires_grad = False)\n",
    "grad = (1/torch.tanh(x))-(1/x)\n",
    "print(\"Analytic grad: \", grad)\n",
    "\n",
    "# Pytorch grad of 1st term of our loss function\n",
    "x1 = torch.tensor(val, requires_grad = True)\n",
    "y1 = -1.0 * torch.log(torch.div(x1,4*torch.pi*torch.sinh(x1)))\n",
    "y1.backward()\n",
    "print(\"Torch grad: \",x1.grad)\n",
    "\n",
    "# Pytorch grad of high K approximation of the 1st term of our loss function\n",
    "x2 = torch.tensor(val, requires_grad = True)\n",
    "y2 = -1.0 * ( torch.log(torch.div(x2,2*torch.pi)) - x2 )\n",
    "y2.backward()\n",
    "print(\"Torch grad approx: \",x2.grad)\n",
    "\n",
    "# Pytorch grad of 15th order Taylor series of 1st term of our loss function about K=0\n",
    "x3 = torch.tensor(val, requires_grad = True)\n",
    "y3 = x3**2/6 - x3**4/180 + x3**6/2835 - x3**8/37800 + x3**10/467775 - (691* (x3**12) )/ 3831077250 + (2 * (x3**14))/127702575 + torch.log(torch.tensor(4)*torch.pi)\n",
    "y3.backward()\n",
    "print(\"Torch grad TS: \",x3.grad)\n",
    "\n",
    "print(\"----------------------------------------------\")\n",
    "print(\"error grad2: \", grad-x2.grad, \", fractional error: \", (x1.grad-x2.grad)/x1.grad)\n",
    "print(\"error grad3: \", grad-x3.grad, \", fractional error: \",  (x1.grad-x3.grad)/x1.grad)\n",
    "\n"
   ]
  },
  {
   "cell_type": "markdown",
   "id": "9ddb73c3-5eea-45bd-a497-c986db160cfa",
   "metadata": {},
   "source": [
    "# Issues with torch.where and torch.minimum"
   ]
  },
  {
   "cell_type": "markdown",
   "id": "7296729a-c53e-44fa-9431-ec22660742b8",
   "metadata": {},
   "source": [
    "To usse the high $\\kappa_i$ approximation, torch.where is needed. However, if one of the arguments in torch.minimum or torch.where is inf, then the gradient will always be nan, even when the condition chooses the differentiable argument.\n",
    "\n",
    "For example: below, b exists and is differentiable but pytorch says the gradient is nan."
   ]
  },
  {
   "cell_type": "code",
   "execution_count": 4,
   "id": "1b2b84cf-dcc5-4983-b805-234dd8abbbae",
   "metadata": {},
   "outputs": [
    {
     "name": "stdout",
     "output_type": "stream",
     "text": [
      "tensor(inf, grad_fn=<ExpBackward0>)\n",
      "tensor(101., grad_fn=<WhereBackward0>)\n",
      "tensor(nan)\n"
     ]
    }
   ],
   "source": [
    "a = torch.tensor(100., requires_grad=True)\n",
    "b = torch.where(a < 0, torch.exp(a), 1 + a)\n",
    "b.backward()\n",
    "print(torch.exp(a))\n",
    "print(b)\n",
    "print(a.grad)\n"
   ]
  },
  {
   "cell_type": "code",
   "execution_count": 5,
   "id": "d3b7929f-9759-47e1-af98-a61822472b08",
   "metadata": {},
   "outputs": [
    {
     "name": "stdout",
     "output_type": "stream",
     "text": [
      "tensor(inf, grad_fn=<ExpBackward0>)\n",
      "tensor(101., grad_fn=<MinimumBackward0>)\n",
      "tensor(nan)\n"
     ]
    }
   ],
   "source": [
    "a = torch.tensor(100., requires_grad=True)\n",
    "b = torch.minimum(torch.exp(a), 1 + a)\n",
    "b.backward()\n",
    "print(torch.exp(a))\n",
    "print(b)\n",
    "print(a.grad)\n"
   ]
  },
  {
   "cell_type": "markdown",
   "id": "1b294833-544d-4b81-b917-7459332d414c",
   "metadata": {},
   "source": [
    "Below, we see what the gradient should be."
   ]
  },
  {
   "cell_type": "code",
   "execution_count": 6,
   "id": "dc974557-1362-47df-9a40-61082e21bacd",
   "metadata": {},
   "outputs": [
    {
     "data": {
      "text/plain": [
       "tensor(1.)"
      ]
     },
     "execution_count": 6,
     "metadata": {},
     "output_type": "execute_result"
    }
   ],
   "source": [
    "a = torch.tensor(100., requires_grad=True)\n",
    "b = 1 + a\n",
    "b.backward()\n",
    "a.grad"
   ]
  },
  {
   "cell_type": "markdown",
   "id": "24116e5d",
   "metadata": {},
   "source": [
    "This bug is discussed here: https://github.com/pytorch/pytorch/issues/10729. Pytorch created masked tensors to adress this issue. However, the MaskedTensor is not fully implemented and cannot be used in our case.\n",
    "\n",
    "Idea: Aviod inf in the torch.where statement by using use the limit (loss 2) for the high kappa approximation and the Taylor series (loss 3) for the low kappa approximation. This way torch.where can be used without encountering nan. This is implemented in mytools.NLLloss_TS in mytools.py"
   ]
  },
  {
   "cell_type": "markdown",
   "id": "99b52590-a9ee-4a35-a753-4dfedff04a94",
   "metadata": {},
   "source": [
    "# Finding the best cutoff "
   ]
  },
  {
   "cell_type": "markdown",
   "id": "3c1a072f-95dc-404c-be7b-2172a80fa896",
   "metadata": {},
   "source": [
    "We want the where statement to choose between loss2 and loss3 in a way that minimizes the difference approximation to the loss and the actual loss."
   ]
  },
  {
   "cell_type": "code",
   "execution_count": 7,
   "id": "3bce9057-4429-4864-85f0-8df45b26cbe7",
   "metadata": {},
   "outputs": [
    {
     "data": {
      "text/plain": [
       "Text(0, 0.5, 'Loss Term')"
      ]
     },
     "execution_count": 7,
     "metadata": {},
     "output_type": "execute_result"
    },
    {
     "data": {
      "image/png": "[encoded data removed]",
      "text/plain": [
       "<Figure size 640x480 with 1 Axes>"
      ]
     },
     "metadata": {},
     "output_type": "display_data"
    }
   ],
   "source": [
    "kappas = np.arange(2.6,2.7,0.001)\n",
    "losses1 = []\n",
    "losses2 = []\n",
    "losses3 = []\n",
    "\n",
    "for K in kappas:\n",
    "\n",
    "    K = torch.tensor(K)\n",
    "\n",
    "    # The 1st term of our loss function\n",
    "    losses1 += [-1.0 * torch.log(torch.div(K,4*torch.pi*torch.sinh(K)))]\n",
    "    \n",
    "    # A high K approximation of the 1st term of our loss function\n",
    "    losses2 += [-1.0 * ( torch.log(torch.div(K,2*torch.pi)) - K )]\n",
    "    \n",
    "    # 15th order Taylor series of 1st term of our loss function about K=0\n",
    "    losses3 += [K**2/6 - K**4/180 + K**6/2835 - K**8/37800 + K**10/467775 - (691* (K**12) )/ 3831077250 + (2 * (K**14))/127702575 + torch.log(torch.tensor(4)*torch.pi)]\n",
    "\n",
    "plt.plot(kappas, losses1,label = \"g($\\kappa$)\")\n",
    "plt.plot(kappas, losses2,label = \"High Kappa Approx.\")\n",
    "plt.plot(kappas, losses3,label = \"Taylor Series Approx.\")\n",
    "plt.axvline(2.65, color = \"k\", label = \"cut off\")\n",
    "\n",
    "plt.legend()\n",
    "plt.xlabel(\"Kappa\")\n",
    "plt.ylabel(\"Loss Term\")\n",
    "    "
   ]
  },
  {
   "cell_type": "markdown",
   "id": "6bbcc08c-4176-4278-a45a-9d548524042a",
   "metadata": {},
   "source": [
    "The best approximation is achieved with a cutoff at 2.65, this is implemented in mytools.NLLloss_TS"
   ]
  }
 ],
 "metadata": {
  "kernelspec": {
   "display_name": "mypt",
   "language": "python",
   "name": "mypt"
  },
  "language_info": {
   "codemirror_mode": {
    "name": "ipython",
    "version": 3
   },
   "file_extension": ".py",
   "mimetype": "text/x-python",
   "name": "python",
   "nbconvert_exporter": "python",
   "pygments_lexer": "ipython3",
   "version": "3.10.11"
  },
  "vscode": {
   "interpreter": {
    "hash": "e137a2665c242313c11d472736bb1efbdaf7608c607fce3fc4f47a32817024ba"
   }
  }
 },
 "nbformat": 4,
 "nbformat_minor": 5
}
