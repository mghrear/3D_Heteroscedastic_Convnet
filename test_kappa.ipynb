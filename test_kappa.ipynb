{
 "cells": [
  {
   "cell_type": "code",
   "execution_count": 1,
   "id": "caefcc0e",
   "metadata": {},
   "outputs": [],
   "source": [
    "import numpy as np\n",
    "import pandas as pd\n",
    "import torch\n",
    "from torch import nn\n",
    "import torch.nn.functional as F\n",
    "from torch.utils.data import DataLoader\n",
    "import torchvision\n",
    "from torchvision import datasets\n",
    "import spconv.pytorch as spconv\n",
    "import matplotlib.pyplot as plt\n",
    "import mytools\n",
    "import mymodels\n",
    "from matplotlib import colors\n"
   ]
  },
  {
   "cell_type": "code",
   "execution_count": 2,
   "id": "7c0732ce-7523-4ea2-8d0c-fa3e9e1690ae",
   "metadata": {},
   "outputs": [
    {
     "name": "stdout",
     "output_type": "stream",
     "text": [
      "Using cuda device\n"
     ]
    }
   ],
   "source": [
    "# Get cpu or gpu device for training.\n",
    "device = \"cuda\" if torch.cuda.is_available() else \"mps\" if torch.backends.mps.is_available() else \"cpu\"\n",
    "print(f\"Using {device} device\")\n",
    "\n",
    "# Load Heteroscedastic model\n",
    "model_HSCDC = torch.load('../3D_Heteroscedastic_Convnet_models/3D_HSCDC_CNN_subM-256.pt').to(device)\n"
   ]
  },
  {
   "cell_type": "code",
   "execution_count": 3,
   "id": "1194c206-fea8-410c-a662-315e3b9fee72",
   "metadata": {},
   "outputs": [],
   "source": [
    "# Function to get prediction for a given test case\n",
    "def get_pred(Energy=50,Diff='H'):\n",
    "    \n",
    "    # Read pandas dataframe with all information about sparse testing tensors\n",
    "    st_info = pd.read_pickle('/home/majd/sparse_testing_tensors_'+str(Energy)+'keV_'+Diff+'diff/sparse_tensor_info.pk')\n",
    "\n",
    "    # Make custom dataset\n",
    "    MyDataset = mytools.CustomDataset(dir_loc='/home/majd/sparse_testing_tensors_'+str(Energy)+'keV_'+Diff+'diff/', st_info=st_info)\n",
    "\n",
    "    # Create DataLoader\n",
    "    batch_size = 64\n",
    "    test_dataloader = DataLoader(MyDataset, batch_size=batch_size, shuffle=True)\n",
    "\n",
    "    # Print tensor shapes\n",
    "    for X_plot, y_plot, offset_plot in test_dataloader:\n",
    "        print(f\"Shape of X [N, C, H, W, D]: {X_plot.shape}\")\n",
    "        print(f\"Shape of y: {y_plot.shape} {y_plot.dtype}\")\n",
    "        print(\"Offsets: \", offset_plot.shape)\n",
    "        break\n",
    "\n",
    "    #Record shape of voxel grid\n",
    "    grid_shape = X_plot.shape[1:4]\n",
    "    print(\"Voxel grid shape: \" , grid_shape)\n",
    "    \n",
    "    # Obtain predictions and Labels\n",
    "    v_pred_HSCDC, K_pred_HSCDC, v_true_HSCDC, off_true_HSCDC = mytools.test_HSCDC(test_dataloader,model_HSCDC,device)\n",
    "    \n",
    "    return  v_pred_HSCDC, K_pred_HSCDC, v_true_HSCDC, off_true_HSCDC\n",
    "    "
   ]
  },
  {
   "cell_type": "code",
   "execution_count": 4,
   "id": "1ef54abd-a531-4406-bd83-bcbb438b8991",
   "metadata": {},
   "outputs": [
    {
     "name": "stdout",
     "output_type": "stream",
     "text": [
      "Shape of X [N, C, H, W, D]: torch.Size([64, 120, 120, 120, 1])\n",
      "Shape of y: torch.Size([64, 3]) torch.float32\n",
      "Offsets:  torch.Size([64, 3])\n",
      "Voxel grid shape:  torch.Size([120, 120, 120])\n",
      "Shape of X [N, C, H, W, D]: torch.Size([64, 120, 120, 120, 1])\n",
      "Shape of y: torch.Size([64, 3]) torch.float32\n",
      "Offsets:  torch.Size([64, 3])\n",
      "Voxel grid shape:  torch.Size([120, 120, 120])\n",
      "Shape of X [N, C, H, W, D]: torch.Size([64, 120, 120, 120, 1])\n",
      "Shape of y: torch.Size([64, 3]) torch.float32\n",
      "Offsets:  torch.Size([64, 3])\n",
      "Voxel grid shape:  torch.Size([120, 120, 120])\n",
      "Shape of X [N, C, H, W, D]: torch.Size([64, 120, 120, 120, 1])\n",
      "Shape of y: torch.Size([64, 3]) torch.float32\n",
      "Offsets:  torch.Size([64, 3])\n",
      "Voxel grid shape:  torch.Size([120, 120, 120])\n"
     ]
    }
   ],
   "source": [
    "# Get predictions for different test cases\n",
    "v_pred_HSCDC_50keV_H, K_pred_HSCDC_50keV_H, v_true_HSCDC_50keV_H, off_true_HSCDC_50keV_H = get_pred(Energy=50,Diff='H')\n",
    "v_pred_HSCDC_50keV_L, K_pred_HSCDC_50keV_L, v_true_HSCDC_50keV_L, off_true_HSCDC_50keV_L = get_pred(Energy=50,Diff='L')\n",
    "v_pred_HSCDC_40keV_H, K_pred_HSCDC_40keV_H, v_true_HSCDC_40keV_H, off_true_HSCDC_40keV_H = get_pred(Energy=40,Diff='H')\n",
    "v_pred_HSCDC_40keV_L, K_pred_HSCDC_40keV_L, v_true_HSCDC_40keV_L, off_true_HSCDC_40keV_L = get_pred(Energy=40,Diff='L')\n"
   ]
  },
  {
   "cell_type": "markdown",
   "id": "c800d185-0706-4e08-b007-e21c6988b963",
   "metadata": {},
   "source": [
    "# Test Kappa for a single test case"
   ]
  },
  {
   "cell_type": "code",
   "execution_count": 5,
   "id": "39bc2c18-fbd6-4a16-980d-65c0c790cea9",
   "metadata": {},
   "outputs": [],
   "source": [
    "x = K_pred_HSCDC_50keV_H.flatten().numpy()\n",
    "y = torch.arccos(mytools.CS(v_pred_HSCDC_50keV_H,v_true_HSCDC_50keV_H)).numpy()"
   ]
  },
  {
   "cell_type": "code",
   "execution_count": 6,
   "id": "262777aa-2a45-4cd8-b797-b4df80cb7a66",
   "metadata": {},
   "outputs": [
    {
     "data": {
      "text/plain": [
       "array([[ 1.        , -0.27538985],\n",
       "       [-0.27538985,  1.        ]])"
      ]
     },
     "execution_count": 6,
     "metadata": {},
     "output_type": "execute_result"
    }
   ],
   "source": [
    "# Plot correleation coefficient matrix\n",
    "np.corrcoef(np.asarray([x,y]))"
   ]
  },
  {
   "cell_type": "code",
   "execution_count": 7,
   "id": "b41a4bde-1634-4ec3-98b2-3186b363b63b",
   "metadata": {},
   "outputs": [
    {
     "data": {
      "image/png": "[encoded data removed]",
      "text/plain": [
       "<Figure size 640x480 with 2 Axes>"
      ]
     },
     "metadata": {},
     "output_type": "display_data"
    }
   ],
   "source": [
    "plt.hist2d(x, y, bins=(50, 50), norm = colors.LogNorm())\n",
    "plt.xlabel(\"Kappa\")\n",
    "plt.ylabel(\"Angle [Rad]\")\n",
    "plt.colorbar()\n",
    "plt.show()\n"
   ]
  },
  {
   "cell_type": "markdown",
   "id": "6b748fa9-b054-40fd-a20f-46fa666762eb",
   "metadata": {},
   "source": [
    "# Test Kappa for a all test cases"
   ]
  },
  {
   "cell_type": "code",
   "execution_count": 8,
   "id": "a5b30424-f611-499b-8f5f-98d3faae28dd",
   "metadata": {},
   "outputs": [],
   "source": [
    "x_50H = K_pred_HSCDC_50keV_H.flatten().numpy()\n",
    "y_50H = torch.arccos(mytools.CS(v_pred_HSCDC_50keV_H,v_true_HSCDC_50keV_H)).numpy()\n",
    "\n",
    "x_50L = K_pred_HSCDC_50keV_L.flatten().numpy()\n",
    "y_50L = torch.arccos(mytools.CS(v_pred_HSCDC_50keV_L,v_true_HSCDC_50keV_L)).numpy()\n",
    "\n",
    "x_40H = K_pred_HSCDC_40keV_H.flatten().numpy()\n",
    "y_40H = torch.arccos(mytools.CS(v_pred_HSCDC_40keV_H,v_true_HSCDC_40keV_H)).numpy()\n",
    "\n",
    "x_40L = K_pred_HSCDC_40keV_L.flatten().numpy()\n",
    "y_40L = torch.arccos(mytools.CS(v_pred_HSCDC_40keV_L,v_true_HSCDC_40keV_L)).numpy()"
   ]
  },
  {
   "cell_type": "code",
   "execution_count": 9,
   "id": "98db248b-8a25-4735-9489-09848670409d",
   "metadata": {},
   "outputs": [],
   "source": [
    "xs = np.concatenate((x_50H,x_50L,x_40H,x_40L))\n",
    "ys = np.concatenate((y_50H,y_50L,y_40H,y_40L))\n"
   ]
  },
  {
   "cell_type": "code",
   "execution_count": 10,
   "id": "94e7bb05-dcef-4843-bd65-374e60eec122",
   "metadata": {},
   "outputs": [
    {
     "data": {
      "text/plain": [
       "array([[ 1.        , -0.29967433],\n",
       "       [-0.29967433,  1.        ]])"
      ]
     },
     "execution_count": 10,
     "metadata": {},
     "output_type": "execute_result"
    }
   ],
   "source": [
    "# Plot correleation coefficient matrix\n",
    "np.corrcoef(np.asarray([xs,ys]))"
   ]
  },
  {
   "cell_type": "code",
   "execution_count": 11,
   "id": "078729ad-9bec-4369-9747-6152e7894f8a",
   "metadata": {},
   "outputs": [
    {
     "name": "stderr",
     "output_type": "stream",
     "text": [
      "/tmp/ipykernel_209648/2009494946.py:8: RuntimeWarning: invalid value encountered in scalar divide\n",
      "  mean_vals += [np.dot(h[i,:],y_centers)/np.sum(h[i,:])]\n"
     ]
    },
    {
     "data": {
      "image/png": "[encoded data removed]",
      "text/plain": [
       "<Figure size 640x480 with 2 Axes>"
      ]
     },
     "metadata": {},
     "output_type": "display_data"
    }
   ],
   "source": [
    "h, x_edges, y_edges, image = plt.hist2d(xs, ys, bins=(50, 50), norm = colors.LogNorm())\n",
    "\n",
    "y_centers = (y_edges[:-1]+y_edges[1:])/2.0\n",
    "x_centers = (x_edges[:-1]+x_edges[1:])/2.0\n",
    "\n",
    "mean_vals = []\n",
    "for i in range(len(x_centers)):\n",
    "    mean_vals += [np.dot(h[i,:],y_centers)/np.sum(h[i,:])]\n",
    "    \n",
    "plt.plot(x_centers[:40],mean_vals[:40],color='r',label=\"Mean Angle\")\n",
    "plt.legend()\n",
    "plt.xlabel(\"Kappa\")\n",
    "plt.ylabel(\"Angle [Rad]\")\n",
    "plt.colorbar()\n",
    "plt.show()\n"
   ]
  },
  {
   "cell_type": "code",
   "execution_count": null,
   "id": "b6c74a70-9dac-462a-bbdb-daa864988fd3",
   "metadata": {},
   "outputs": [],
   "source": []
  },
  {
   "cell_type": "code",
   "execution_count": null,
   "id": "0313f323-b078-44c6-826d-27ee8e1f6f0f",
   "metadata": {},
   "outputs": [],
   "source": []
  }
 ],
 "metadata": {
  "kernelspec": {
   "display_name": "mypt",
   "language": "python",
   "name": "demo"
  },
  "language_info": {
   "codemirror_mode": {
    "name": "ipython",
    "version": 3
   },
   "file_extension": ".py",
   "mimetype": "text/x-python",
   "name": "python",
   "nbconvert_exporter": "python",
   "pygments_lexer": "ipython3",
   "version": "3.10.11"
  },
  "vscode": {
   "interpreter": {
    "hash": "e137a2665c242313c11d472736bb1efbdaf7608c607fce3fc4f47a32817024ba"
   }
  }
 },
 "nbformat": 4,
 "nbformat_minor": 5
}
